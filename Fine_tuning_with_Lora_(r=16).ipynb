{
  "cells": [
    {
      "cell_type": "markdown",
      "metadata": {
        "id": "7sJVkeWgbrnt"
      },
      "source": [
        "# Data preprocessing"
      ]
    },
    {
      "cell_type": "code",
      "execution_count": null,
      "metadata": {
        "colab": {
          "base_uri": "https://localhost:8080/"
        },
        "id": "ahLFQgoM3JCf",
        "outputId": "7e2cb5a4-2485-4112-a7bb-e3bf8881486d"
      },
      "outputs": [
        {
          "output_type": "stream",
          "name": "stdout",
          "text": [
            "Drive already mounted at /content/drive; to attempt to forcibly remount, call drive.mount(\"/content/drive\", force_remount=True).\n",
            "Created 41490 sentence pairs from original data.\n",
            "({'sentence': '那下次见吧。', 'label': 1}, {'sentence': '那下次见面吧。', 'label': -1}) ({'sentence': '虽然我不能去但是他们都去。', 'label': 1}, {'sentence': '虽然我不能去但是别人他们都去。', 'label': -1}) ({'sentence': '他们都有很好的一天。', 'label': 1}, {'sentence': '他们都有很好的天。', 'label': -1})\n"
          ]
        }
      ],
      "source": [
        "import json\n",
        "\n",
        "# Mount Google Drive to access data\n",
        "from google.colab import drive\n",
        "drive.mount('/content/drive')\n",
        "file_path = '/content/drive/MyDrive/Colab Notebooks/data_cged/training_data.jsonl'\n",
        "\n",
        "# Load the data and create pairs directly\n",
        "def load_data_and_create_pairs(file_path):\n",
        "    sentence_pairs = []\n",
        "\n",
        "    with open(file_path, 'r', encoding='utf-8') as f:\n",
        "        for line in f:\n",
        "            item = json.loads(line.strip())\n",
        "            # Check if both correct and error fields are present and not empty\n",
        "            if item.get(\"correct\") and item.get(\"error\"):\n",
        "                correct_item = {\"sentence\": item[\"correct\"]}\n",
        "                ungrammatical_item = {\"sentence\": item[\"text\"]}\n",
        "                sentence_pairs.append((correct_item, ungrammatical_item))\n",
        "\n",
        "    return sentence_pairs\n",
        "\n",
        "sentence_pairs = load_data_and_create_pairs(file_path)\n",
        "\n",
        "print(f\"Created {len(sentence_pairs)} sentence pairs from original data.\")\n",
        "print(sentence_pairs[1], sentence_pairs[5], sentence_pairs[10])"
      ]
    },
    {
      "cell_type": "code",
      "source": [
        "# 80-10-10 split\n",
        "from sklearn.model_selection import train_test_split\n",
        "\n",
        "train_pairs, temp_pairs = train_test_split(sentence_pairs, test_size=0.2, random_state=42)\n",
        "val_pairs, test_pairs = train_test_split(temp_pairs, test_size=0.5, random_state=42)\n",
        "\n",
        "print(f\"Number of pairs in training set: {len(train_pairs)}\")\n",
        "print(f\"Number of pairs in validation set: {len(val_pairs)}\")\n",
        "print(f\"Number of pairs in test set: {len(test_pairs)}\")\n",
        "\n",
        "# Inspect a few pairs from each set\n",
        "print(\"\\nExamples from training set:\")\n",
        "print(train_pairs[:2])\n",
        "\n",
        "print(\"\\nExamples from validation set:\")\n",
        "print(val_pairs[:2])\n",
        "\n",
        "print(\"\\nExamples from test set:\")\n",
        "print(test_pairs[:2])"
      ],
      "metadata": {
        "colab": {
          "base_uri": "https://localhost:8080/"
        },
        "id": "4EPulGFCmhiG",
        "outputId": "342551b9-ef1f-493c-b174-b85198fbfbdd"
      },
      "execution_count": null,
      "outputs": [
        {
          "output_type": "stream",
          "name": "stdout",
          "text": [
            "Number of pairs in training set: 33192\n",
            "Number of pairs in validation set: 4149\n",
            "Number of pairs in test set: 4149\n",
            "\n",
            "Examples from training set:\n",
            "[({'sentence': '吸烟包括吸烟者自己对吸烟者旁边的人有影响，比如说：癌症、记忆力衰弱等等。', 'label': 1}, {'sentence': '吸烟包括吸烟者自己对吸烟者旁边的人起影响，比如说：发癌症、记忆力衰弱等等。', 'label': -1}), ({'sentence': '包括我家、大城市里的一般的家庭开冰箱满是吃的东西。看马路的垃圾堆，有很多吃不下的东西。', 'label': 1}, {'sentence': '包括我家、大城市里的一般的家庭开冰箱满着吃的东西。看马路的拉圾所，有很多吃不下的东西。', 'label': -1})]\n",
            "\n",
            "Examples from validation set:\n",
            "[({'sentence': '请你帮我买一个电脑。', 'label': 1}, {'sentence': '请你对我买一个电脑。', 'label': -1}), ({'sentence': '他毕业于上海交通大学，今年二十三岁。他以前是记者，现在没有工作。', 'label': 1}, {'sentence': '他已经毕业于上海交通大学，他今年二十三岁。他以前是记者，现在是没有工作。', 'label': -1})]\n",
            "\n",
            "Examples from test set:\n",
            "[({'sentence': '可是我有一件重要的事情，不能参加了。对不起。让你难过了。', 'label': 1}, {'sentence': '可是我有一个重要的事情，不能参加。对不起。让你难过。', 'label': -1}), ({'sentence': '“安乐死”是一种生命的选择，现在对很多病人来说可能“生”比“死”还要苦：不能吃东西，总是吃药，不能去外面，一直在病房，有的病人不会说话。如果自己的亲朋好友是这个样子的话，我绝对受不了；可能钱的负担也不小；但是这不仅是钱的问题而且是心理上的问题。', 'label': 1}, {'sentence': '“安乐死”是一种生命的选择，现在很多病人可能“生”比“死”还要苦：不能吃东西，总是吃药，不能出去外面，一直在病房，有的病人不会说话。如果自己的亲朋好友就是这个样子的话，我绝对受不了；可能钱的负担也不少；但是这不仅是钱的问题是心理上的问题而且。', 'label': -1})]\n"
          ]
        }
      ]
    },
    {
      "cell_type": "code",
      "source": [
        "# Group pairs by new length bins based on the correct sentence length (0-9, ..., 100-109, 110+)\n",
        "new_length_bins = list(range(0, 111, 10)) + [float('inf')]\n",
        "new_length_labels = [f'{new_length_bins[i]}-{new_length_bins[i+1]-1}' for i in range(len(new_length_bins)-2)] + [f'{new_length_bins[-2]}+']\n",
        "\n",
        "from collections import defaultdict\n",
        "new_grouped_pairs = defaultdict(list)\n",
        "\n",
        "for correct_item, ungrammatical_item in test_pairs:\n",
        "    correct_len = len(correct_item[\"sentence\"])\n",
        "\n",
        "    # Find the correct bin for the correct sentence length\n",
        "    assigned_bin = None\n",
        "    for j in range(len(new_length_bins) - 1):\n",
        "        if new_length_bins[j] <= correct_len < new_length_bins[j+1]:\n",
        "            assigned_bin = new_length_labels[j]\n",
        "            break\n",
        "    # Handle the case for the last bin (>= 110)\n",
        "    if assigned_bin is None and correct_len >= new_length_bins[-2]:\n",
        "         if len(new_length_labels) > 0:\n",
        "             assigned_bin = new_length_labels[-1]\n",
        "\n",
        "\n",
        "    if assigned_bin:\n",
        "        # Append the original pair to the correct length bin\n",
        "        new_grouped_pairs[assigned_bin].append((correct_item, ungrammatical_item))\n",
        "\n",
        "# Print the number of pairs in each new length bin\n",
        "print(\"\\nNumber of pairs in each new length bin (based on correct sentence length):\")\n",
        "# Sort by label\n",
        "def sort_key(label):\n",
        "    if '-' in label:\n",
        "        try:\n",
        "            return int(label.split('-')[0])\n",
        "        except ValueError:\n",
        "            pass\n",
        "    elif '+' in label:\n",
        "         try:\n",
        "             return int(label.split('+')[0])\n",
        "         except ValueError:\n",
        "              pass\n",
        "    return label\n",
        "\n",
        "for label, pairs in sorted(new_grouped_pairs.items(), key=lambda item: sort_key(item[0])):\n",
        "    print(f\"Length bin '{label}': {len(pairs)} pairs\")"
      ],
      "metadata": {
        "colab": {
          "base_uri": "https://localhost:8080/"
        },
        "id": "FydFFbnJm6Uq",
        "outputId": "e89f94c8-2191-43df-eede-64308555b314"
      },
      "execution_count": null,
      "outputs": [
        {
          "output_type": "stream",
          "name": "stdout",
          "text": [
            "\n",
            "Number of pairs in each new length bin (based on correct sentence length):\n",
            "Length bin '0-9': 308 pairs\n",
            "Length bin '10-19': 1091 pairs\n",
            "Length bin '20-29': 657 pairs\n",
            "Length bin '30-39': 560 pairs\n",
            "Length bin '40-49': 481 pairs\n",
            "Length bin '50-59': 341 pairs\n",
            "Length bin '60-69': 248 pairs\n",
            "Length bin '70-79': 176 pairs\n",
            "Length bin '80-89': 114 pairs\n",
            "Length bin '90-99': 59 pairs\n",
            "Length bin '100-109': 42 pairs\n",
            "Length bin '110+': 72 pairs\n"
          ]
        }
      ]
    },
    {
      "cell_type": "markdown",
      "metadata": {
        "id": "jnedDVp-PvQS"
      },
      "source": [
        "# Implementing the Dataset class"
      ]
    },
    {
      "cell_type": "code",
      "execution_count": null,
      "metadata": {
        "id": "BeX6ROFKAv9o"
      },
      "outputs": [],
      "source": [
        "import torch\n",
        "from torch.utils.data import Dataset, DataLoader\n",
        "\n",
        "class GrammarCheckDataset(Dataset):\n",
        "    # Modified to accept a list of sentence pairs and return tokenized pairs with labels\n",
        "    def __init__(self, data_pairs, tokenizer, max_length=256):\n",
        "        self.data_pairs = data_pairs # This will be a list of (correct_item, ungrammatical_item) tuples\n",
        "        self.tokenizer = tokenizer\n",
        "        self.max_length = max_length\n",
        "\n",
        "    def __len__(self):\n",
        "        return len(self.data_pairs)\n",
        "\n",
        "    def __getitem__(self, idx):\n",
        "        correct_item, ungrammatical_item = self.data_pairs[idx]\n",
        "\n",
        "        correct_sentence = correct_item[\"sentence\"]\n",
        "        ungrammatical_sentence = ungrammatical_item[\"sentence\"]\n",
        "\n",
        "        # Tokenize the correct sentence\n",
        "        tokenized_correct = self.tokenizer(correct_sentence,\n",
        "                                          padding='max_length',\n",
        "                                          truncation=True,\n",
        "                                          max_length=self.max_length,\n",
        "                                          return_tensors='pt')\n",
        "\n",
        "        # Tokenize the ungrammatical sentence\n",
        "        tokenized_ungrammatical = self.tokenizer(ungrammatical_sentence,\n",
        "                                               padding='max_length',\n",
        "                                               truncation=True,\n",
        "                                               max_length=self.max_length,\n",
        "                                               return_tensors='pt')\n",
        "\n",
        "        # Return a dictionary containing tokenized correct and ungrammatical sentences and their labels\n",
        "        return {\n",
        "            \"correct_input_ids\": tokenized_correct['input_ids'].squeeze(0),\n",
        "            \"correct_attention_mask\": tokenized_correct['attention_mask'].squeeze(0),\n",
        "            \"ungrammatical_input_ids\": tokenized_ungrammatical['input_ids'].squeeze(0),\n",
        "            \"ungrammatical_attention_mask\": tokenized_ungrammatical['attention_mask'].squeeze(0),\n",
        "        }"
      ]
    },
    {
      "cell_type": "markdown",
      "metadata": {
        "id": "UBydZRfHnaJL"
      },
      "source": [
        "# Loading the model"
      ]
    },
    {
      "cell_type": "code",
      "execution_count": null,
      "metadata": {
        "id": "2uaaTQSQVMxq",
        "colab": {
          "base_uri": "https://localhost:8080/"
        },
        "outputId": "7690b986-d54a-4310-a101-55729ab5402c"
      },
      "outputs": [
        {
          "output_type": "stream",
          "name": "stdout",
          "text": [
            "Using cuda device\n"
          ]
        }
      ],
      "source": [
        "# Check whether a GPU is available\n",
        "device = \"cpu\"\n",
        "if torch.cuda.is_available():\n",
        "    device = \"cuda\"\n",
        "print(f\"Using {device} device\")"
      ]
    },
    {
      "cell_type": "code",
      "execution_count": null,
      "metadata": {
        "id": "tK7YxE2WBH7i",
        "colab": {
          "base_uri": "https://localhost:8080/"
        },
        "outputId": "c1a46a77-892b-4359-8824-f6695ad17d0b"
      },
      "outputs": [
        {
          "output_type": "stream",
          "name": "stdout",
          "text": [
            "Requirement already satisfied: transformers in /usr/local/lib/python3.11/dist-packages (4.54.1)\n",
            "Requirement already satisfied: filelock in /usr/local/lib/python3.11/dist-packages (from transformers) (3.18.0)\n",
            "Requirement already satisfied: huggingface-hub<1.0,>=0.34.0 in /usr/local/lib/python3.11/dist-packages (from transformers) (0.34.1)\n",
            "Requirement already satisfied: numpy>=1.17 in /usr/local/lib/python3.11/dist-packages (from transformers) (2.0.2)\n",
            "Requirement already satisfied: packaging>=20.0 in /usr/local/lib/python3.11/dist-packages (from transformers) (25.0)\n",
            "Requirement already satisfied: pyyaml>=5.1 in /usr/local/lib/python3.11/dist-packages (from transformers) (6.0.2)\n",
            "Requirement already satisfied: regex!=2019.12.17 in /usr/local/lib/python3.11/dist-packages (from transformers) (2024.11.6)\n",
            "Requirement already satisfied: requests in /usr/local/lib/python3.11/dist-packages (from transformers) (2.32.3)\n",
            "Requirement already satisfied: tokenizers<0.22,>=0.21 in /usr/local/lib/python3.11/dist-packages (from transformers) (0.21.2)\n",
            "Requirement already satisfied: safetensors>=0.4.3 in /usr/local/lib/python3.11/dist-packages (from transformers) (0.5.3)\n",
            "Requirement already satisfied: tqdm>=4.27 in /usr/local/lib/python3.11/dist-packages (from transformers) (4.67.1)\n",
            "Requirement already satisfied: fsspec>=2023.5.0 in /usr/local/lib/python3.11/dist-packages (from huggingface-hub<1.0,>=0.34.0->transformers) (2025.3.0)\n",
            "Requirement already satisfied: typing-extensions>=3.7.4.3 in /usr/local/lib/python3.11/dist-packages (from huggingface-hub<1.0,>=0.34.0->transformers) (4.14.1)\n",
            "Requirement already satisfied: hf-xet<2.0.0,>=1.1.3 in /usr/local/lib/python3.11/dist-packages (from huggingface-hub<1.0,>=0.34.0->transformers) (1.1.5)\n",
            "Requirement already satisfied: charset-normalizer<4,>=2 in /usr/local/lib/python3.11/dist-packages (from requests->transformers) (3.4.2)\n",
            "Requirement already satisfied: idna<4,>=2.5 in /usr/local/lib/python3.11/dist-packages (from requests->transformers) (3.10)\n",
            "Requirement already satisfied: urllib3<3,>=1.21.1 in /usr/local/lib/python3.11/dist-packages (from requests->transformers) (2.5.0)\n",
            "Requirement already satisfied: certifi>=2017.4.17 in /usr/local/lib/python3.11/dist-packages (from requests->transformers) (2025.7.14)\n"
          ]
        }
      ],
      "source": [
        "!pip install --upgrade transformers"
      ]
    },
    {
      "cell_type": "code",
      "execution_count": null,
      "metadata": {
        "id": "7h04A6D_ZpGK",
        "colab": {
          "base_uri": "https://localhost:8080/"
        },
        "outputId": "04de895d-a893-4181-ae6b-cecee22ccdfe"
      },
      "outputs": [
        {
          "output_type": "stream",
          "name": "stderr",
          "text": [
            "/usr/local/lib/python3.11/dist-packages/huggingface_hub/utils/_auth.py:94: UserWarning: \n",
            "The secret `HF_TOKEN` does not exist in your Colab secrets.\n",
            "To authenticate with the Hugging Face Hub, create a token in your settings tab (https://huggingface.co/settings/tokens), set it as secret in your Google Colab and restart your session.\n",
            "You will be able to reuse this secret in all of your notebooks.\n",
            "Please note that authentication is recommended but still optional to access public models or datasets.\n",
            "  warnings.warn(\n"
          ]
        }
      ],
      "source": [
        "from transformers import AutoTokenizer, AutoModelForCausalLM\n",
        "\n",
        "model_name = \"Qwen/Qwen3-0.6B\"\n",
        "tokenizer = AutoTokenizer.from_pretrained(model_name)\n",
        "model = AutoModelForCausalLM.from_pretrained(model_name)\n",
        "\n",
        "model = model.to(device)"
      ]
    },
    {
      "cell_type": "markdown",
      "source": [
        "# Training the model"
      ],
      "metadata": {
        "id": "RzT4aV7OmG9e"
      }
    },
    {
      "cell_type": "markdown",
      "source": [
        "## Dataloader"
      ],
      "metadata": {
        "id": "6SdXF7GxovP8"
      }
    },
    {
      "cell_type": "code",
      "source": [
        "batch_size = 8 # Ensure batch size is even for paired data\n",
        "if batch_size % 2 != 0:\n",
        "    print(f\"Warning: Batch size {batch_size} is odd. Adjusting to {batch_size - 1} for paired data.\")\n",
        "    batch_size = batch_size - 1\n",
        "elif batch_size == 0:\n",
        "     print(f\"Warning: Batch size cannot be 0. Adjusting to 2 for paired data.\")\n",
        "     batch_size = 2\n",
        "\n",
        "\n",
        "# Create the datasets using the original pairs\n",
        "train_dataset = GrammarCheckDataset(train_pairs, tokenizer)\n",
        "validation_dataset = GrammarCheckDataset(val_pairs, tokenizer) # Use val_pairs directly\n",
        "test_dataset = GrammarCheckDataset(test_pairs, tokenizer) # Use test_pairs directly\n",
        "\n",
        "train_dataloader = DataLoader(train_dataset, batch_size=batch_size, shuffle=True)\n",
        "validation_dataloader = DataLoader(validation_dataset, batch_size=batch_size)\n",
        "test_dataloader = DataLoader(test_dataset, batch_size=batch_size)\n",
        "\n",
        "# Inspect one batch\n",
        "print(\"Inspecting one batch from train_dataloader:\")\n",
        "for batch in train_dataloader:\n",
        "    print(\"Correct input_ids shape:\", batch[\"correct_input_ids\"].shape)\n",
        "    print(\"Correct attention_mask shape:\", batch[\"correct_attention_mask\"].shape)\n",
        "    print(\"Ungrammatical input_ids shape:\", batch[\"ungrammatical_input_ids\"].shape)\n",
        "    print(\"Ungrammatical attention_mask shape:\", batch[\"ungrammatical_attention_mask\"].shape)\n",
        "    break"
      ],
      "metadata": {
        "id": "MPfgJjIEjT7r",
        "colab": {
          "base_uri": "https://localhost:8080/"
        },
        "outputId": "d1e931c6-4db8-401c-e65f-a02a10440b1f"
      },
      "execution_count": null,
      "outputs": [
        {
          "output_type": "stream",
          "name": "stdout",
          "text": [
            "Inspecting one batch from train_dataloader:\n",
            "Correct input_ids shape: torch.Size([8, 256])\n",
            "Correct attention_mask shape: torch.Size([8, 256])\n",
            "Ungrammatical input_ids shape: torch.Size([8, 256])\n",
            "Ungrammatical attention_mask shape: torch.Size([8, 256])\n"
          ]
        }
      ]
    },
    {
      "cell_type": "markdown",
      "source": [
        "## Margin Loss"
      ],
      "metadata": {
        "id": "zbhkQu6ygVNF"
      }
    },
    {
      "cell_type": "code",
      "source": [
        "import torch.nn as nn\n",
        "import torch.nn.functional as F\n",
        "\n",
        "class MarginLoss(nn.Module):\n",
        "    def __init__(self, margin=1.0):\n",
        "        super().__init__()\n",
        "        self.margin = margin\n",
        "\n",
        "    def forward(self, correct_logits, correct_attention_mask, correct_input_ids,\n",
        "                ungrammatical_logits, ungrammatical_attention_mask, ungrammatical_input_ids):\n",
        "\n",
        "        # Calculate log probability for correct sentences\n",
        "        shifted_correct_logits = correct_logits[:, :-1, :].contiguous()\n",
        "        correct_target_ids = correct_input_ids[:, 1:]\n",
        "        correct_target_mask = correct_attention_mask[:, 1:]\n",
        "        log_probs_correct_all = torch.log_softmax(shifted_correct_logits, dim=-1)\n",
        "        one_hot_correct_target_ids = F.one_hot(correct_target_ids, num_classes=log_probs_correct_all.size(-1)).float()\n",
        "        selected_log_probs_correct = torch.einsum('bsv,bsv->bs', log_probs_correct_all, one_hot_correct_target_ids)\n",
        "        masked_log_probs_correct = selected_log_probs_correct * correct_target_mask.float()\n",
        "        # Sum log probabilities over the sequence length for each sentence\n",
        "        sentence_log_probs_correct = masked_log_probs_correct.sum(dim=-1) # (batch_size,)\n",
        "\n",
        "        # Calculate log probability for ungrammatical sentences\n",
        "        shifted_ungrammatical_logits = ungrammatical_logits[:, :-1, :].contiguous()\n",
        "        ungrammatical_target_ids = ungrammatical_input_ids[:, 1:]\n",
        "        ungrammatical_target_mask = ungrammatical_attention_mask[:, 1:]\n",
        "        log_probs_ungrammatical_all = torch.log_softmax(shifted_ungrammatical_logits, dim=-1)\n",
        "        one_hot_ungrammatical_target_ids = F.one_hot(ungrammatical_target_ids, num_classes=log_probs_ungrammatical_all.size(-1)).float()\n",
        "        selected_log_probs_ungrammatical = torch.einsum('bsv,bsv->bs', log_probs_ungrammatical_all, one_hot_ungrammatical_target_ids)\n",
        "        masked_log_probs_ungrammatical = selected_log_probs_ungrammatical * ungrammatical_target_mask.float()\n",
        "        # Sum log probabilities over the sequence length for each sentence\n",
        "        sentence_log_probs_ungrammatical = masked_log_probs_ungrammatical.sum(dim=-1) # (batch_size,)\n",
        "\n",
        "        # Calculate the margin loss\n",
        "        # The loss is max(0, margin - (log_prob_correct - log_prob_ungrammatical))\n",
        "        loss = torch.relu(self.margin - (sentence_log_probs_correct - sentence_log_probs_ungrammatical))\n",
        "\n",
        "        # Calculate the mean loss over the batch\n",
        "        batch_loss = torch.mean(loss)\n",
        "\n",
        "        return batch_loss"
      ],
      "metadata": {
        "id": "nQ854s3Kfh_v"
      },
      "execution_count": null,
      "outputs": []
    },
    {
      "cell_type": "markdown",
      "source": [
        "## Model fine-tuning"
      ],
      "metadata": {
        "id": "v54ZH8aqAR5m"
      }
    },
    {
      "cell_type": "markdown",
      "source": [
        "### LoRA"
      ],
      "metadata": {
        "id": "WnGKTU4ZAmA5"
      }
    },
    {
      "cell_type": "code",
      "metadata": {
        "id": "02c9e887",
        "colab": {
          "base_uri": "https://localhost:8080/"
        },
        "outputId": "5b908048-ed69-48bb-ad01-3ca8245435ee"
      },
      "source": [
        "from peft import LoraConfig, get_peft_model\n",
        "import torch\n",
        "\n",
        "# Define LoRA configuration\n",
        "lora_config = LoraConfig(\n",
        "    r=16,\n",
        "    lora_alpha=32,\n",
        "    target_modules=[\"q_proj\", \"v_proj\"],\n",
        "    lora_dropout=0.1,\n",
        "    bias=\"none\",\n",
        "    task_type=\"CAUSAL_LM\",\n",
        ")\n",
        "\n",
        "# Get PEFT model\n",
        "model = get_peft_model(model, lora_config)\n",
        "model.print_trainable_parameters()\n",
        "\n",
        "# Initialize the optimizer\n",
        "optimizer = torch.optim.Adam(model.parameters(), lr=1e-4)"
      ],
      "execution_count": null,
      "outputs": [
        {
          "output_type": "stream",
          "name": "stdout",
          "text": [
            "trainable params: 2,293,760 || all params: 598,343,680 || trainable%: 0.3834\n"
          ]
        }
      ]
    },
    {
      "cell_type": "markdown",
      "source": [
        "### Training function"
      ],
      "metadata": {
        "id": "q5gRxnlrAr6f"
      }
    },
    {
      "cell_type": "code",
      "source": [
        "import tqdm\n",
        "import copy\n",
        "import matplotlib.pyplot as plt # Import matplotlib\n",
        "\n",
        "def train(model, optimizer, train_dataloader, validation_dataloader, criterion, epochs=10, patience=3):\n",
        "\n",
        "    # Track and save the model with the best validation loss\n",
        "    best_val_loss = float('inf')\n",
        "    epochs_no_improve = 0\n",
        "    best_model_state = None\n",
        "\n",
        "    # Lists to store metrics for plotting\n",
        "    history = {\n",
        "        'train_loss': [],\n",
        "        'val_loss': [],\n",
        "        'val_accuracy': []\n",
        "    }\n",
        "\n",
        "    for epoch in range(epochs):\n",
        "        # Training phase\n",
        "        model.train()\n",
        "        epoch_train_losses = []\n",
        "\n",
        "        # Iterate through all training batches\n",
        "        for batch in tqdm.tqdm(train_dataloader, desc=f\"Epoch {epoch+1}/{epochs}\"):\n",
        "            # Move batch components to the device\n",
        "            correct_input_ids = batch[\"correct_input_ids\"].to(device)\n",
        "            correct_attention_mask = batch[\"correct_attention_mask\"].to(device)\n",
        "            ungrammatical_input_ids = batch[\"ungrammatical_input_ids\"].to(device)\n",
        "            ungrammatical_attention_mask = batch[\"ungrammatical_attention_mask\"].to(device)\n",
        "\n",
        "            # Reset the optimiser\n",
        "            optimizer.zero_grad()\n",
        "\n",
        "            # Forward pass for correct sentences\n",
        "            outputs_correct = model(input_ids=correct_input_ids, attention_mask=correct_attention_mask)\n",
        "            correct_logits = outputs_correct.logits # (batch_size, sequence_length, vocab_size)\n",
        "\n",
        "            # Forward pass for ungrammatical sentences\n",
        "            outputs_ungrammatical = model(input_ids=ungrammatical_input_ids, attention_mask=ungrammatical_attention_mask)\n",
        "            ungrammatical_logits = outputs_ungrammatical.logits # (batch_size, sequence_length, vocab_size)\n",
        "\n",
        "\n",
        "            # Calculate the MarginLoss\n",
        "            # Pass separate logits, attention_masks, and input_ids for correct and ungrammatical sentences\n",
        "            loss = criterion(correct_logits, correct_attention_mask, correct_input_ids,\n",
        "                             ungrammatical_logits, ungrammatical_attention_mask, ungrammatical_input_ids)\n",
        "\n",
        "\n",
        "            # Backward pass\n",
        "            loss.backward()\n",
        "\n",
        "            optimizer.step()\n",
        "\n",
        "            epoch_train_losses.append(loss.item())\n",
        "\n",
        "            # Print every 100 batches\n",
        "            if len(epoch_train_losses) % 100 == 0:\n",
        "                current_avg_train_loss = sum(epoch_train_losses)/len(epoch_train_losses) if len(epoch_train_losses) > 0 else 0\n",
        "                print(f\"\\nEpoch: {epoch + 1}, Batch: {len(epoch_train_losses)}, current train loss: {current_avg_train_loss:.4f}\")\n",
        "\n",
        "\n",
        "        # Print the loss at the end of every epoch\n",
        "        # Calculate the final average train loss for the epoch\n",
        "        final_avg_train_loss = sum(epoch_train_losses)/len(epoch_train_losses) if len(epoch_train_losses) > 0 else 0\n",
        "        print(f\"\\nEpoch: {epoch + 1}, processed {len(epoch_train_losses)} batches, final average train loss: {final_avg_train_loss:.4f}\")\n",
        "        history['train_loss'].append(final_avg_train_loss) # Store train loss\n",
        "\n",
        "\n",
        "        # Validation phase\n",
        "        model.eval()\n",
        "        epoch_val_losses = []\n",
        "        correct_predictions = 0\n",
        "        total_pairs_evaluated = 0 # Count pairs for accuracy calculation\n",
        "\n",
        "        # Disable gradient calculation for validation\n",
        "        with torch.no_grad():\n",
        "            for batch in tqdm.tqdm(validation_dataloader, desc=f\"Epoch {epoch+1}/{epochs} (Validation)\"):\n",
        "                # Move batch components to the device\n",
        "                correct_input_ids = batch[\"correct_input_ids\"].to(device)\n",
        "                correct_attention_mask = batch[\"correct_attention_mask\"].to(device)\n",
        "                ungrammatical_input_ids = batch[\"ungrammatical_input_ids\"].to(device)\n",
        "                ungrammatical_attention_mask = batch[\"ungrammatical_attention_mask\"].to(device)\n",
        "\n",
        "\n",
        "                # Forward pass for correct sentences\n",
        "                outputs_correct = model(input_ids=correct_input_ids, attention_mask=correct_attention_mask)\n",
        "                correct_logits = outputs_correct.logits\n",
        "\n",
        "                # Forward pass for ungrammatical sentences\n",
        "                outputs_ungrammatical = model(input_ids=ungrammatical_input_ids, attention_mask=ungrammatical_attention_mask)\n",
        "                ungrammatical_logits = outputs_ungrammatical.logits\n",
        "\n",
        "\n",
        "                # Calculate validation loss using the custom criterion\n",
        "                val_loss = criterion(correct_logits, correct_attention_mask, correct_input_ids,\n",
        "                                      ungrammatical_logits, ungrammatical_attention_mask, ungrammatical_input_ids)\n",
        "                epoch_val_losses.append(val_loss.item())\n",
        "\n",
        "                # Calculate Accuracy\n",
        "                # Recalculate sentence log probabilities based on the logits\n",
        "\n",
        "                # For correct sentences\n",
        "                shifted_correct_logits = correct_logits[:, :-1, :].contiguous()\n",
        "                correct_target_ids = correct_input_ids[:, 1:]\n",
        "                correct_target_mask = correct_attention_mask[:, 1:]\n",
        "                log_probs_correct_all = torch.log_softmax(shifted_correct_logits, dim=-1)\n",
        "                one_hot_correct_target_ids = F.one_hot(correct_target_ids, num_classes=log_probs_correct_all.size(-1)).float()\n",
        "                selected_log_probs_correct = torch.einsum('bsv,bsv->bs', log_probs_correct_all, one_hot_correct_target_ids)\n",
        "                masked_log_probs_correct = selected_log_probs_correct * correct_target_mask.float()\n",
        "                sentence_log_probs_correct = masked_log_probs_correct.sum(dim=-1) # (batch_size,)\n",
        "\n",
        "\n",
        "                # For ungrammatical sentences\n",
        "                shifted_ungrammatical_logits = ungrammatical_logits[:, :-1, :].contiguous()\n",
        "                ungrammatical_target_ids = ungrammatical_input_ids[:, 1:]\n",
        "                ungrammatical_target_mask = ungrammatical_attention_mask[:, 1:]\n",
        "                log_probs_ungrammatical_all = torch.log_softmax(shifted_ungrammatical_logits, dim=-1)\n",
        "                one_hot_ungrammatical_target_ids = F.one_hot(ungrammatical_target_ids, num_classes=log_probs_ungrammatical_all.size(-1)).float()\n",
        "                selected_log_probs_ungrammatical = torch.einsum('bsv,bsv->bs', log_probs_ungrammatical_all, one_hot_ungrammatical_target_ids)\n",
        "                masked_log_probs_ungrammatical = selected_log_probs_ungrammatical * ungrammatical_target_mask.float()\n",
        "                sentence_log_probs_ungrammatical = masked_log_probs_ungrammatical.sum(dim=-1) # (batch_size,)\n",
        "\n",
        "\n",
        "                # Compare log probabilities within each pair\n",
        "                for i in range(sentence_log_probs_correct.shape[0]):\n",
        "                    if sentence_log_probs_correct[i] > sentence_log_probs_ungrammatical[i]:\n",
        "                        correct_predictions += 1\n",
        "                    total_pairs_evaluated += 1 # Count each pair\n",
        "\n",
        "            avg_val_loss = sum(epoch_val_losses)/len(epoch_val_losses) if len(epoch_val_losses) > 0 else 0\n",
        "            val_accuracy = (correct_predictions / total_pairs_evaluated) * 100 if total_pairs_evaluated > 0 else 0\n",
        "\n",
        "            print(f\"\\nEpoch: {epoch+1}, average validation loss: {avg_val_loss:.4f}, validation accuracy: {val_accuracy:.2f}%\")\n",
        "            history['val_loss'].append(avg_val_loss) # Store val loss\n",
        "            history['val_accuracy'].append(val_accuracy) # Store val accuracy\n",
        "\n",
        "\n",
        "        # Early Stopping Check\n",
        "        # Use the average validation loss for early stopping\n",
        "        if avg_val_loss < best_val_loss:\n",
        "            best_val_loss = avg_val_loss\n",
        "            epochs_no_improve = 0\n",
        "            # Save the model state dictionary when validation loss improves\n",
        "            # Move each tensor within the state dictionary to CPU\n",
        "            best_model_state = {k: v.cpu() for k, v in copy.deepcopy(model.state_dict()).items()}\n",
        "            print(f\"Validation loss improved. Saving model state.\")\n",
        "        else:\n",
        "            epochs_no_improve += 1\n",
        "            print(f\"Validation loss did not improve. Epochs with no improvement: {epochs_no_improve}/{patience}\")\n",
        "\n",
        "        if epochs_no_improve >= patience:\n",
        "            print(f\"Early stopping triggered after {epoch+1} epochs. Validation loss did not improve for {patience} consecutive epochs.\")\n",
        "            break\n",
        "\n",
        "        # End of Epoch\n",
        "        model.train()\n",
        "\n",
        "    print(\"Training finished.\")\n",
        "\n",
        "    # Load the best model state after training\n",
        "    if best_model_state is not None:\n",
        "        model.load_state_dict(best_model_state)\n",
        "        print(\"Loaded model state with the best validation loss.\")\n",
        "    else:\n",
        "        print(\"No model state was saved (perhaps training did not complete at least one epoch).\")\n",
        "\n",
        "    return model, history # Return the best model and training history"
      ],
      "metadata": {
        "id": "Rvt_5BcrnPd1"
      },
      "execution_count": null,
      "outputs": []
    },
    {
      "cell_type": "code",
      "source": [
        "best_model, history = train(\n",
        "    model,\n",
        "    optimizer,\n",
        "    train_dataloader,\n",
        "    validation_dataloader,\n",
        "    criterion=MarginLoss(),\n",
        "    epochs=10,\n",
        "    patience=3\n",
        ")\n",
        "\n",
        "print(\"Training completed.\")"
      ],
      "metadata": {
        "id": "B0maj22iM-jb",
        "colab": {
          "base_uri": "https://localhost:8080/"
        },
        "outputId": "23128cd9-947b-46c3-c981-0f5e9e2aabae"
      },
      "execution_count": null,
      "outputs": [
        {
          "output_type": "stream",
          "name": "stderr",
          "text": [
            "Epoch 1/10:   2%|▏         | 100/4149 [01:22<55:26,  1.22it/s]"
          ]
        },
        {
          "output_type": "stream",
          "name": "stdout",
          "text": [
            "\n",
            "Epoch: 1, Batch: 100, current train loss: 0.8402\n"
          ]
        },
        {
          "output_type": "stream",
          "name": "stderr",
          "text": [
            "Epoch 1/10:   5%|▍         | 200/4149 [02:45<54:04,  1.22it/s]"
          ]
        },
        {
          "output_type": "stream",
          "name": "stdout",
          "text": [
            "\n",
            "Epoch: 1, Batch: 200, current train loss: 0.8861\n"
          ]
        },
        {
          "output_type": "stream",
          "name": "stderr",
          "text": [
            "Epoch 1/10:   7%|▋         | 300/4149 [04:07<52:45,  1.22it/s]"
          ]
        },
        {
          "output_type": "stream",
          "name": "stdout",
          "text": [
            "\n",
            "Epoch: 1, Batch: 300, current train loss: 0.8578\n"
          ]
        },
        {
          "output_type": "stream",
          "name": "stderr",
          "text": [
            "Epoch 1/10:  10%|▉         | 400/4149 [05:29<51:22,  1.22it/s]"
          ]
        },
        {
          "output_type": "stream",
          "name": "stdout",
          "text": [
            "\n",
            "Epoch: 1, Batch: 400, current train loss: 0.8465\n"
          ]
        },
        {
          "output_type": "stream",
          "name": "stderr",
          "text": [
            "Epoch 1/10:  12%|█▏        | 500/4149 [06:51<50:00,  1.22it/s]"
          ]
        },
        {
          "output_type": "stream",
          "name": "stdout",
          "text": [
            "\n",
            "Epoch: 1, Batch: 500, current train loss: 0.8027\n"
          ]
        },
        {
          "output_type": "stream",
          "name": "stderr",
          "text": [
            "Epoch 1/10:  14%|█▍        | 600/4149 [08:14<48:38,  1.22it/s]"
          ]
        },
        {
          "output_type": "stream",
          "name": "stdout",
          "text": [
            "\n",
            "Epoch: 1, Batch: 600, current train loss: 0.7884\n"
          ]
        },
        {
          "output_type": "stream",
          "name": "stderr",
          "text": [
            "Epoch 1/10:  17%|█▋        | 700/4149 [09:36<47:16,  1.22it/s]"
          ]
        },
        {
          "output_type": "stream",
          "name": "stdout",
          "text": [
            "\n",
            "Epoch: 1, Batch: 700, current train loss: 0.7882\n"
          ]
        },
        {
          "output_type": "stream",
          "name": "stderr",
          "text": [
            "Epoch 1/10:  19%|█▉        | 800/4149 [10:58<45:53,  1.22it/s]"
          ]
        },
        {
          "output_type": "stream",
          "name": "stdout",
          "text": [
            "\n",
            "Epoch: 1, Batch: 800, current train loss: 0.7777\n"
          ]
        },
        {
          "output_type": "stream",
          "name": "stderr",
          "text": [
            "Epoch 1/10:  22%|██▏       | 900/4149 [12:20<44:32,  1.22it/s]"
          ]
        },
        {
          "output_type": "stream",
          "name": "stdout",
          "text": [
            "\n",
            "Epoch: 1, Batch: 900, current train loss: 0.7714\n"
          ]
        },
        {
          "output_type": "stream",
          "name": "stderr",
          "text": [
            "Epoch 1/10:  24%|██▍       | 1000/4149 [13:43<43:09,  1.22it/s]"
          ]
        },
        {
          "output_type": "stream",
          "name": "stdout",
          "text": [
            "\n",
            "Epoch: 1, Batch: 1000, current train loss: 0.7603\n"
          ]
        },
        {
          "output_type": "stream",
          "name": "stderr",
          "text": [
            "Epoch 1/10:  27%|██▋       | 1100/4149 [15:05<41:47,  1.22it/s]"
          ]
        },
        {
          "output_type": "stream",
          "name": "stdout",
          "text": [
            "\n",
            "Epoch: 1, Batch: 1100, current train loss: 0.7538\n"
          ]
        },
        {
          "output_type": "stream",
          "name": "stderr",
          "text": [
            "Epoch 1/10:  29%|██▉       | 1200/4149 [16:27<40:24,  1.22it/s]"
          ]
        },
        {
          "output_type": "stream",
          "name": "stdout",
          "text": [
            "\n",
            "Epoch: 1, Batch: 1200, current train loss: 0.7394\n"
          ]
        },
        {
          "output_type": "stream",
          "name": "stderr",
          "text": [
            "Epoch 1/10:  31%|███▏      | 1300/4149 [17:50<39:05,  1.21it/s]"
          ]
        },
        {
          "output_type": "stream",
          "name": "stdout",
          "text": [
            "\n",
            "Epoch: 1, Batch: 1300, current train loss: 0.7242\n"
          ]
        },
        {
          "output_type": "stream",
          "name": "stderr",
          "text": [
            "Epoch 1/10:  34%|███▎      | 1400/4149 [19:12<37:40,  1.22it/s]"
          ]
        },
        {
          "output_type": "stream",
          "name": "stdout",
          "text": [
            "\n",
            "Epoch: 1, Batch: 1400, current train loss: 0.7130\n"
          ]
        },
        {
          "output_type": "stream",
          "name": "stderr",
          "text": [
            "Epoch 1/10:  36%|███▌      | 1500/4149 [20:34<36:19,  1.22it/s]"
          ]
        },
        {
          "output_type": "stream",
          "name": "stdout",
          "text": [
            "\n",
            "Epoch: 1, Batch: 1500, current train loss: 0.7144\n"
          ]
        },
        {
          "output_type": "stream",
          "name": "stderr",
          "text": [
            "Epoch 1/10:  39%|███▊      | 1600/4149 [21:56<34:57,  1.22it/s]"
          ]
        },
        {
          "output_type": "stream",
          "name": "stdout",
          "text": [
            "\n",
            "Epoch: 1, Batch: 1600, current train loss: 0.7110\n"
          ]
        },
        {
          "output_type": "stream",
          "name": "stderr",
          "text": [
            "Epoch 1/10:  41%|████      | 1700/4149 [23:18<33:32,  1.22it/s]"
          ]
        },
        {
          "output_type": "stream",
          "name": "stdout",
          "text": [
            "\n",
            "Epoch: 1, Batch: 1700, current train loss: 0.7185\n"
          ]
        },
        {
          "output_type": "stream",
          "name": "stderr",
          "text": [
            "Epoch 1/10:  43%|████▎     | 1800/4149 [24:41<32:12,  1.22it/s]"
          ]
        },
        {
          "output_type": "stream",
          "name": "stdout",
          "text": [
            "\n",
            "Epoch: 1, Batch: 1800, current train loss: 0.7160\n"
          ]
        },
        {
          "output_type": "stream",
          "name": "stderr",
          "text": [
            "Epoch 1/10:  46%|████▌     | 1900/4149 [26:03<30:48,  1.22it/s]"
          ]
        },
        {
          "output_type": "stream",
          "name": "stdout",
          "text": [
            "\n",
            "Epoch: 1, Batch: 1900, current train loss: 0.7147\n"
          ]
        },
        {
          "output_type": "stream",
          "name": "stderr",
          "text": [
            "Epoch 1/10:  48%|████▊     | 2000/4149 [27:25<29:26,  1.22it/s]"
          ]
        },
        {
          "output_type": "stream",
          "name": "stdout",
          "text": [
            "\n",
            "Epoch: 1, Batch: 2000, current train loss: 0.7062\n"
          ]
        },
        {
          "output_type": "stream",
          "name": "stderr",
          "text": [
            "Epoch 1/10:  51%|█████     | 2100/4149 [28:47<28:05,  1.22it/s]"
          ]
        },
        {
          "output_type": "stream",
          "name": "stdout",
          "text": [
            "\n",
            "Epoch: 1, Batch: 2100, current train loss: 0.6949\n"
          ]
        },
        {
          "output_type": "stream",
          "name": "stderr",
          "text": [
            "Epoch 1/10:  53%|█████▎    | 2200/4149 [30:10<26:43,  1.22it/s]"
          ]
        },
        {
          "output_type": "stream",
          "name": "stdout",
          "text": [
            "\n",
            "Epoch: 1, Batch: 2200, current train loss: 0.6895\n"
          ]
        },
        {
          "output_type": "stream",
          "name": "stderr",
          "text": [
            "Epoch 1/10:  55%|█████▌    | 2300/4149 [31:32<27:21,  1.13it/s]"
          ]
        },
        {
          "output_type": "stream",
          "name": "stdout",
          "text": [
            "\n",
            "Epoch: 1, Batch: 2300, current train loss: 0.6911\n"
          ]
        },
        {
          "output_type": "stream",
          "name": "stderr",
          "text": [
            "Epoch 1/10:  58%|█████▊    | 2400/4149 [32:55<23:58,  1.22it/s]"
          ]
        },
        {
          "output_type": "stream",
          "name": "stdout",
          "text": [
            "\n",
            "Epoch: 1, Batch: 2400, current train loss: 0.6922\n"
          ]
        },
        {
          "output_type": "stream",
          "name": "stderr",
          "text": [
            "Epoch 1/10:  60%|██████    | 2500/4149 [34:17<22:37,  1.22it/s]"
          ]
        },
        {
          "output_type": "stream",
          "name": "stdout",
          "text": [
            "\n",
            "Epoch: 1, Batch: 2500, current train loss: 0.6864\n"
          ]
        },
        {
          "output_type": "stream",
          "name": "stderr",
          "text": [
            "Epoch 1/10:  63%|██████▎   | 2600/4149 [35:39<21:14,  1.22it/s]"
          ]
        },
        {
          "output_type": "stream",
          "name": "stdout",
          "text": [
            "\n",
            "Epoch: 1, Batch: 2600, current train loss: 0.6866\n"
          ]
        },
        {
          "output_type": "stream",
          "name": "stderr",
          "text": [
            "Epoch 1/10:  65%|██████▌   | 2700/4149 [37:01<19:51,  1.22it/s]"
          ]
        },
        {
          "output_type": "stream",
          "name": "stdout",
          "text": [
            "\n",
            "Epoch: 1, Batch: 2700, current train loss: 0.6922\n"
          ]
        },
        {
          "output_type": "stream",
          "name": "stderr",
          "text": [
            "Epoch 1/10:  67%|██████▋   | 2800/4149 [38:23<18:29,  1.22it/s]"
          ]
        },
        {
          "output_type": "stream",
          "name": "stdout",
          "text": [
            "\n",
            "Epoch: 1, Batch: 2800, current train loss: 0.6925\n"
          ]
        },
        {
          "output_type": "stream",
          "name": "stderr",
          "text": [
            "Epoch 1/10:  70%|██████▉   | 2900/4149 [39:46<17:07,  1.22it/s]"
          ]
        },
        {
          "output_type": "stream",
          "name": "stdout",
          "text": [
            "\n",
            "Epoch: 1, Batch: 2900, current train loss: 0.6881\n"
          ]
        },
        {
          "output_type": "stream",
          "name": "stderr",
          "text": [
            "Epoch 1/10:  72%|███████▏  | 3000/4149 [41:08<15:44,  1.22it/s]"
          ]
        },
        {
          "output_type": "stream",
          "name": "stdout",
          "text": [
            "\n",
            "Epoch: 1, Batch: 3000, current train loss: 0.6837\n"
          ]
        },
        {
          "output_type": "stream",
          "name": "stderr",
          "text": [
            "Epoch 1/10:  75%|███████▍  | 3100/4149 [42:30<14:22,  1.22it/s]"
          ]
        },
        {
          "output_type": "stream",
          "name": "stdout",
          "text": [
            "\n",
            "Epoch: 1, Batch: 3100, current train loss: 0.6818\n"
          ]
        },
        {
          "output_type": "stream",
          "name": "stderr",
          "text": [
            "Epoch 1/10:  77%|███████▋  | 3200/4149 [43:52<13:00,  1.22it/s]"
          ]
        },
        {
          "output_type": "stream",
          "name": "stdout",
          "text": [
            "\n",
            "Epoch: 1, Batch: 3200, current train loss: 0.6792\n"
          ]
        },
        {
          "output_type": "stream",
          "name": "stderr",
          "text": [
            "Epoch 1/10:  80%|███████▉  | 3300/4149 [45:15<11:38,  1.22it/s]"
          ]
        },
        {
          "output_type": "stream",
          "name": "stdout",
          "text": [
            "\n",
            "Epoch: 1, Batch: 3300, current train loss: 0.6754\n"
          ]
        },
        {
          "output_type": "stream",
          "name": "stderr",
          "text": [
            "Epoch 1/10:  82%|████████▏ | 3400/4149 [46:37<10:16,  1.22it/s]"
          ]
        },
        {
          "output_type": "stream",
          "name": "stdout",
          "text": [
            "\n",
            "Epoch: 1, Batch: 3400, current train loss: 0.6708\n"
          ]
        },
        {
          "output_type": "stream",
          "name": "stderr",
          "text": [
            "Epoch 1/10:  84%|████████▍ | 3500/4149 [47:59<08:53,  1.22it/s]"
          ]
        },
        {
          "output_type": "stream",
          "name": "stdout",
          "text": [
            "\n",
            "Epoch: 1, Batch: 3500, current train loss: 0.6699\n"
          ]
        },
        {
          "output_type": "stream",
          "name": "stderr",
          "text": [
            "Epoch 1/10:  87%|████████▋ | 3600/4149 [49:22<07:31,  1.22it/s]"
          ]
        },
        {
          "output_type": "stream",
          "name": "stdout",
          "text": [
            "\n",
            "Epoch: 1, Batch: 3600, current train loss: 0.6697\n"
          ]
        },
        {
          "output_type": "stream",
          "name": "stderr",
          "text": [
            "Epoch 1/10:  89%|████████▉ | 3700/4149 [50:44<06:09,  1.22it/s]"
          ]
        },
        {
          "output_type": "stream",
          "name": "stdout",
          "text": [
            "\n",
            "Epoch: 1, Batch: 3700, current train loss: 0.6669\n"
          ]
        },
        {
          "output_type": "stream",
          "name": "stderr",
          "text": [
            "Epoch 1/10:  92%|█████████▏| 3800/4149 [52:06<04:47,  1.22it/s]"
          ]
        },
        {
          "output_type": "stream",
          "name": "stdout",
          "text": [
            "\n",
            "Epoch: 1, Batch: 3800, current train loss: 0.6645\n"
          ]
        },
        {
          "output_type": "stream",
          "name": "stderr",
          "text": [
            "Epoch 1/10:  94%|█████████▍| 3900/4149 [53:28<03:24,  1.21it/s]"
          ]
        },
        {
          "output_type": "stream",
          "name": "stdout",
          "text": [
            "\n",
            "Epoch: 1, Batch: 3900, current train loss: 0.6600\n"
          ]
        },
        {
          "output_type": "stream",
          "name": "stderr",
          "text": [
            "Epoch 1/10:  96%|█████████▋| 4000/4149 [54:51<02:02,  1.22it/s]"
          ]
        },
        {
          "output_type": "stream",
          "name": "stdout",
          "text": [
            "\n",
            "Epoch: 1, Batch: 4000, current train loss: 0.6610\n"
          ]
        },
        {
          "output_type": "stream",
          "name": "stderr",
          "text": [
            "Epoch 1/10:  99%|█████████▉| 4100/4149 [56:13<00:40,  1.22it/s]"
          ]
        },
        {
          "output_type": "stream",
          "name": "stdout",
          "text": [
            "\n",
            "Epoch: 1, Batch: 4100, current train loss: 0.6621\n"
          ]
        },
        {
          "output_type": "stream",
          "name": "stderr",
          "text": [
            "Epoch 1/10: 100%|██████████| 4149/4149 [56:53<00:00,  1.22it/s]\n"
          ]
        },
        {
          "output_type": "stream",
          "name": "stdout",
          "text": [
            "\n",
            "Epoch: 1, processed 4149 batches, final average train loss: 0.6622\n"
          ]
        },
        {
          "output_type": "stream",
          "name": "stderr",
          "text": [
            "Epoch 1/10 (Validation): 100%|██████████| 519/519 [03:28<00:00,  2.49it/s]\n"
          ]
        },
        {
          "output_type": "stream",
          "name": "stdout",
          "text": [
            "\n",
            "Epoch: 1, average validation loss: 0.5222, validation accuracy: 87.42%\n",
            "Validation loss improved. Saving model state.\n"
          ]
        },
        {
          "output_type": "stream",
          "name": "stderr",
          "text": [
            "Epoch 2/10:   2%|▏         | 100/4149 [01:22<55:31,  1.22it/s]"
          ]
        },
        {
          "output_type": "stream",
          "name": "stdout",
          "text": [
            "\n",
            "Epoch: 2, Batch: 100, current train loss: 0.3526\n"
          ]
        },
        {
          "output_type": "stream",
          "name": "stderr",
          "text": [
            "Epoch 2/10:   5%|▍         | 200/4149 [02:44<54:05,  1.22it/s]"
          ]
        },
        {
          "output_type": "stream",
          "name": "stdout",
          "text": [
            "\n",
            "Epoch: 2, Batch: 200, current train loss: 0.3210\n"
          ]
        },
        {
          "output_type": "stream",
          "name": "stderr",
          "text": [
            "Epoch 2/10:   7%|▋         | 300/4149 [04:06<52:45,  1.22it/s]"
          ]
        },
        {
          "output_type": "stream",
          "name": "stdout",
          "text": [
            "\n",
            "Epoch: 2, Batch: 300, current train loss: 0.3540\n"
          ]
        },
        {
          "output_type": "stream",
          "name": "stderr",
          "text": [
            "Epoch 2/10:  10%|▉         | 400/4149 [05:29<51:21,  1.22it/s]"
          ]
        },
        {
          "output_type": "stream",
          "name": "stdout",
          "text": [
            "\n",
            "Epoch: 2, Batch: 400, current train loss: 0.3553\n"
          ]
        },
        {
          "output_type": "stream",
          "name": "stderr",
          "text": [
            "Epoch 2/10:  12%|█▏        | 500/4149 [06:51<50:02,  1.22it/s]"
          ]
        },
        {
          "output_type": "stream",
          "name": "stdout",
          "text": [
            "\n",
            "Epoch: 2, Batch: 500, current train loss: 0.3498\n"
          ]
        },
        {
          "output_type": "stream",
          "name": "stderr",
          "text": [
            "Epoch 2/10:  14%|█▍        | 600/4149 [08:13<48:38,  1.22it/s]"
          ]
        },
        {
          "output_type": "stream",
          "name": "stdout",
          "text": [
            "\n",
            "Epoch: 2, Batch: 600, current train loss: 0.3487\n"
          ]
        },
        {
          "output_type": "stream",
          "name": "stderr",
          "text": [
            "Epoch 2/10:  17%|█▋        | 700/4149 [09:35<47:15,  1.22it/s]"
          ]
        },
        {
          "output_type": "stream",
          "name": "stdout",
          "text": [
            "\n",
            "Epoch: 2, Batch: 700, current train loss: 0.3514\n"
          ]
        },
        {
          "output_type": "stream",
          "name": "stderr",
          "text": [
            "Epoch 2/10:  19%|█▉        | 800/4149 [10:58<45:56,  1.22it/s]"
          ]
        },
        {
          "output_type": "stream",
          "name": "stdout",
          "text": [
            "\n",
            "Epoch: 2, Batch: 800, current train loss: 0.3576\n"
          ]
        },
        {
          "output_type": "stream",
          "name": "stderr",
          "text": [
            "Epoch 2/10:  22%|██▏       | 900/4149 [12:20<44:33,  1.22it/s]"
          ]
        },
        {
          "output_type": "stream",
          "name": "stdout",
          "text": [
            "\n",
            "Epoch: 2, Batch: 900, current train loss: 0.3499\n"
          ]
        },
        {
          "output_type": "stream",
          "name": "stderr",
          "text": [
            "Epoch 2/10:  24%|██▍       | 1000/4149 [13:42<43:08,  1.22it/s]"
          ]
        },
        {
          "output_type": "stream",
          "name": "stdout",
          "text": [
            "\n",
            "Epoch: 2, Batch: 1000, current train loss: 0.3652\n"
          ]
        },
        {
          "output_type": "stream",
          "name": "stderr",
          "text": [
            "Epoch 2/10:  27%|██▋       | 1100/4149 [15:04<41:47,  1.22it/s]"
          ]
        },
        {
          "output_type": "stream",
          "name": "stdout",
          "text": [
            "\n",
            "Epoch: 2, Batch: 1100, current train loss: 0.3583\n"
          ]
        },
        {
          "output_type": "stream",
          "name": "stderr",
          "text": [
            "Epoch 2/10:  29%|██▉       | 1200/4149 [16:27<40:25,  1.22it/s]"
          ]
        },
        {
          "output_type": "stream",
          "name": "stdout",
          "text": [
            "\n",
            "Epoch: 2, Batch: 1200, current train loss: 0.3604\n"
          ]
        },
        {
          "output_type": "stream",
          "name": "stderr",
          "text": [
            "Epoch 2/10:  31%|███▏      | 1300/4149 [17:49<39:04,  1.21it/s]"
          ]
        },
        {
          "output_type": "stream",
          "name": "stdout",
          "text": [
            "\n",
            "Epoch: 2, Batch: 1300, current train loss: 0.3609\n"
          ]
        },
        {
          "output_type": "stream",
          "name": "stderr",
          "text": [
            "Epoch 2/10:  34%|███▎      | 1400/4149 [19:11<37:40,  1.22it/s]"
          ]
        },
        {
          "output_type": "stream",
          "name": "stdout",
          "text": [
            "\n",
            "Epoch: 2, Batch: 1400, current train loss: 0.3599\n"
          ]
        },
        {
          "output_type": "stream",
          "name": "stderr",
          "text": [
            "Epoch 2/10:  36%|███▌      | 1500/4149 [20:34<36:18,  1.22it/s]"
          ]
        },
        {
          "output_type": "stream",
          "name": "stdout",
          "text": [
            "\n",
            "Epoch: 2, Batch: 1500, current train loss: 0.3562\n"
          ]
        },
        {
          "output_type": "stream",
          "name": "stderr",
          "text": [
            "Epoch 2/10:  39%|███▊      | 1600/4149 [21:56<34:58,  1.21it/s]"
          ]
        },
        {
          "output_type": "stream",
          "name": "stdout",
          "text": [
            "\n",
            "Epoch: 2, Batch: 1600, current train loss: 0.3568\n"
          ]
        },
        {
          "output_type": "stream",
          "name": "stderr",
          "text": [
            "Epoch 2/10:  41%|████      | 1700/4149 [23:18<33:34,  1.22it/s]"
          ]
        },
        {
          "output_type": "stream",
          "name": "stdout",
          "text": [
            "\n",
            "Epoch: 2, Batch: 1700, current train loss: 0.3587\n"
          ]
        },
        {
          "output_type": "stream",
          "name": "stderr",
          "text": [
            "Epoch 2/10:  43%|████▎     | 1800/4149 [24:40<32:12,  1.22it/s]"
          ]
        },
        {
          "output_type": "stream",
          "name": "stdout",
          "text": [
            "\n",
            "Epoch: 2, Batch: 1800, current train loss: 0.3627\n"
          ]
        },
        {
          "output_type": "stream",
          "name": "stderr",
          "text": [
            "Epoch 2/10:  46%|████▌     | 1900/4149 [26:03<30:49,  1.22it/s]"
          ]
        },
        {
          "output_type": "stream",
          "name": "stdout",
          "text": [
            "\n",
            "Epoch: 2, Batch: 1900, current train loss: 0.3635\n"
          ]
        },
        {
          "output_type": "stream",
          "name": "stderr",
          "text": [
            "Epoch 2/10:  48%|████▊     | 2000/4149 [27:25<29:27,  1.22it/s]"
          ]
        },
        {
          "output_type": "stream",
          "name": "stdout",
          "text": [
            "\n",
            "Epoch: 2, Batch: 2000, current train loss: 0.3697\n"
          ]
        },
        {
          "output_type": "stream",
          "name": "stderr",
          "text": [
            "Epoch 2/10:  51%|█████     | 2100/4149 [28:47<28:04,  1.22it/s]"
          ]
        },
        {
          "output_type": "stream",
          "name": "stdout",
          "text": [
            "\n",
            "Epoch: 2, Batch: 2100, current train loss: 0.3707\n"
          ]
        },
        {
          "output_type": "stream",
          "name": "stderr",
          "text": [
            "Epoch 2/10:  53%|█████▎    | 2200/4149 [30:09<26:42,  1.22it/s]"
          ]
        },
        {
          "output_type": "stream",
          "name": "stdout",
          "text": [
            "\n",
            "Epoch: 2, Batch: 2200, current train loss: 0.3687\n"
          ]
        },
        {
          "output_type": "stream",
          "name": "stderr",
          "text": [
            "Epoch 2/10:  55%|█████▌    | 2300/4149 [31:31<25:22,  1.21it/s]"
          ]
        },
        {
          "output_type": "stream",
          "name": "stdout",
          "text": [
            "\n",
            "Epoch: 2, Batch: 2300, current train loss: 0.3650\n"
          ]
        },
        {
          "output_type": "stream",
          "name": "stderr",
          "text": [
            "Epoch 2/10:  58%|█████▊    | 2400/4149 [32:54<23:59,  1.22it/s]"
          ]
        },
        {
          "output_type": "stream",
          "name": "stdout",
          "text": [
            "\n",
            "Epoch: 2, Batch: 2400, current train loss: 0.3673\n"
          ]
        },
        {
          "output_type": "stream",
          "name": "stderr",
          "text": [
            "Epoch 2/10:  60%|██████    | 2500/4149 [34:16<22:36,  1.22it/s]"
          ]
        },
        {
          "output_type": "stream",
          "name": "stdout",
          "text": [
            "\n",
            "Epoch: 2, Batch: 2500, current train loss: 0.3667\n"
          ]
        },
        {
          "output_type": "stream",
          "name": "stderr",
          "text": [
            "Epoch 2/10:  63%|██████▎   | 2600/4149 [35:38<21:13,  1.22it/s]"
          ]
        },
        {
          "output_type": "stream",
          "name": "stdout",
          "text": [
            "\n",
            "Epoch: 2, Batch: 2600, current train loss: 0.3671\n"
          ]
        },
        {
          "output_type": "stream",
          "name": "stderr",
          "text": [
            "Epoch 2/10:  65%|██████▌   | 2700/4149 [37:01<19:51,  1.22it/s]"
          ]
        },
        {
          "output_type": "stream",
          "name": "stdout",
          "text": [
            "\n",
            "Epoch: 2, Batch: 2700, current train loss: 0.3701\n"
          ]
        },
        {
          "output_type": "stream",
          "name": "stderr",
          "text": [
            "Epoch 2/10:  67%|██████▋   | 2800/4149 [38:23<18:29,  1.22it/s]"
          ]
        },
        {
          "output_type": "stream",
          "name": "stdout",
          "text": [
            "\n",
            "Epoch: 2, Batch: 2800, current train loss: 0.3684\n"
          ]
        },
        {
          "output_type": "stream",
          "name": "stderr",
          "text": [
            "Epoch 2/10:  70%|██████▉   | 2900/4149 [39:45<17:06,  1.22it/s]"
          ]
        },
        {
          "output_type": "stream",
          "name": "stdout",
          "text": [
            "\n",
            "Epoch: 2, Batch: 2900, current train loss: 0.3703\n"
          ]
        },
        {
          "output_type": "stream",
          "name": "stderr",
          "text": [
            "Epoch 2/10:  72%|███████▏  | 3000/4149 [41:07<15:44,  1.22it/s]"
          ]
        },
        {
          "output_type": "stream",
          "name": "stdout",
          "text": [
            "\n",
            "Epoch: 2, Batch: 3000, current train loss: 0.3729\n"
          ]
        },
        {
          "output_type": "stream",
          "name": "stderr",
          "text": [
            "Epoch 2/10:  75%|███████▍  | 3100/4149 [42:30<14:23,  1.22it/s]"
          ]
        },
        {
          "output_type": "stream",
          "name": "stdout",
          "text": [
            "\n",
            "Epoch: 2, Batch: 3100, current train loss: 0.3711\n"
          ]
        },
        {
          "output_type": "stream",
          "name": "stderr",
          "text": [
            "Epoch 2/10:  77%|███████▋  | 3200/4149 [43:52<13:00,  1.22it/s]"
          ]
        },
        {
          "output_type": "stream",
          "name": "stdout",
          "text": [
            "\n",
            "Epoch: 2, Batch: 3200, current train loss: 0.3736\n"
          ]
        },
        {
          "output_type": "stream",
          "name": "stderr",
          "text": [
            "Epoch 2/10:  80%|███████▉  | 3300/4149 [45:14<11:38,  1.22it/s]"
          ]
        },
        {
          "output_type": "stream",
          "name": "stdout",
          "text": [
            "\n",
            "Epoch: 2, Batch: 3300, current train loss: 0.3802\n"
          ]
        },
        {
          "output_type": "stream",
          "name": "stderr",
          "text": [
            "Epoch 2/10:  82%|████████▏ | 3400/4149 [46:36<10:15,  1.22it/s]"
          ]
        },
        {
          "output_type": "stream",
          "name": "stdout",
          "text": [
            "\n",
            "Epoch: 2, Batch: 3400, current train loss: 0.3787\n"
          ]
        },
        {
          "output_type": "stream",
          "name": "stderr",
          "text": [
            "Epoch 2/10:  84%|████████▍ | 3500/4149 [47:59<08:53,  1.22it/s]"
          ]
        },
        {
          "output_type": "stream",
          "name": "stdout",
          "text": [
            "\n",
            "Epoch: 2, Batch: 3500, current train loss: 0.3769\n"
          ]
        },
        {
          "output_type": "stream",
          "name": "stderr",
          "text": [
            "Epoch 2/10:  87%|████████▋ | 3600/4149 [49:21<07:31,  1.22it/s]"
          ]
        },
        {
          "output_type": "stream",
          "name": "stdout",
          "text": [
            "\n",
            "Epoch: 2, Batch: 3600, current train loss: 0.3761\n"
          ]
        },
        {
          "output_type": "stream",
          "name": "stderr",
          "text": [
            "Epoch 2/10:  89%|████████▉ | 3700/4149 [50:43<06:29,  1.15it/s]"
          ]
        },
        {
          "output_type": "stream",
          "name": "stdout",
          "text": [
            "\n",
            "Epoch: 2, Batch: 3700, current train loss: 0.3798\n"
          ]
        },
        {
          "output_type": "stream",
          "name": "stderr",
          "text": [
            "Epoch 2/10:  92%|█████████▏| 3800/4149 [52:06<04:46,  1.22it/s]"
          ]
        },
        {
          "output_type": "stream",
          "name": "stdout",
          "text": [
            "\n",
            "Epoch: 2, Batch: 3800, current train loss: 0.3805\n"
          ]
        },
        {
          "output_type": "stream",
          "name": "stderr",
          "text": [
            "Epoch 2/10:  94%|█████████▍| 3900/4149 [53:28<03:24,  1.22it/s]"
          ]
        },
        {
          "output_type": "stream",
          "name": "stdout",
          "text": [
            "\n",
            "Epoch: 2, Batch: 3900, current train loss: 0.3836\n"
          ]
        },
        {
          "output_type": "stream",
          "name": "stderr",
          "text": [
            "Epoch 2/10:  96%|█████████▋| 4000/4149 [54:50<02:02,  1.22it/s]"
          ]
        },
        {
          "output_type": "stream",
          "name": "stdout",
          "text": [
            "\n",
            "Epoch: 2, Batch: 4000, current train loss: 0.3831\n"
          ]
        },
        {
          "output_type": "stream",
          "name": "stderr",
          "text": [
            "Epoch 2/10:  99%|█████████▉| 4100/4149 [56:12<00:40,  1.22it/s]"
          ]
        },
        {
          "output_type": "stream",
          "name": "stdout",
          "text": [
            "\n",
            "Epoch: 2, Batch: 4100, current train loss: 0.3842\n"
          ]
        },
        {
          "output_type": "stream",
          "name": "stderr",
          "text": [
            "Epoch 2/10: 100%|██████████| 4149/4149 [56:52<00:00,  1.22it/s]\n"
          ]
        },
        {
          "output_type": "stream",
          "name": "stdout",
          "text": [
            "\n",
            "Epoch: 2, processed 4149 batches, final average train loss: 0.3843\n"
          ]
        },
        {
          "output_type": "stream",
          "name": "stderr",
          "text": [
            "Epoch 2/10 (Validation): 100%|██████████| 519/519 [03:28<00:00,  2.49it/s]\n"
          ]
        },
        {
          "output_type": "stream",
          "name": "stdout",
          "text": [
            "\n",
            "Epoch: 2, average validation loss: 0.5351, validation accuracy: 87.18%\n",
            "Validation loss did not improve. Epochs with no improvement: 1/3\n"
          ]
        },
        {
          "output_type": "stream",
          "name": "stderr",
          "text": [
            "Epoch 3/10:   2%|▏         | 100/4149 [01:22<55:28,  1.22it/s]"
          ]
        },
        {
          "output_type": "stream",
          "name": "stdout",
          "text": [
            "\n",
            "Epoch: 3, Batch: 100, current train loss: 0.1716\n"
          ]
        },
        {
          "output_type": "stream",
          "name": "stderr",
          "text": [
            "Epoch 3/10:   5%|▍         | 200/4149 [02:44<54:05,  1.22it/s]"
          ]
        },
        {
          "output_type": "stream",
          "name": "stdout",
          "text": [
            "\n",
            "Epoch: 3, Batch: 200, current train loss: 0.1881\n"
          ]
        },
        {
          "output_type": "stream",
          "name": "stderr",
          "text": [
            "Epoch 3/10:   7%|▋         | 300/4149 [04:06<52:39,  1.22it/s]"
          ]
        },
        {
          "output_type": "stream",
          "name": "stdout",
          "text": [
            "\n",
            "Epoch: 3, Batch: 300, current train loss: 0.2007\n"
          ]
        },
        {
          "output_type": "stream",
          "name": "stderr",
          "text": [
            "Epoch 3/10:  10%|▉         | 400/4149 [05:28<51:20,  1.22it/s]"
          ]
        },
        {
          "output_type": "stream",
          "name": "stdout",
          "text": [
            "\n",
            "Epoch: 3, Batch: 400, current train loss: 0.2066\n"
          ]
        },
        {
          "output_type": "stream",
          "name": "stderr",
          "text": [
            "Epoch 3/10:  12%|█▏        | 500/4149 [06:51<50:38,  1.20it/s]"
          ]
        },
        {
          "output_type": "stream",
          "name": "stdout",
          "text": [
            "\n",
            "Epoch: 3, Batch: 500, current train loss: 0.2113\n"
          ]
        },
        {
          "output_type": "stream",
          "name": "stderr",
          "text": [
            "Epoch 3/10:  14%|█▍        | 600/4149 [08:13<48:36,  1.22it/s]"
          ]
        },
        {
          "output_type": "stream",
          "name": "stdout",
          "text": [
            "\n",
            "Epoch: 3, Batch: 600, current train loss: 0.2083\n"
          ]
        },
        {
          "output_type": "stream",
          "name": "stderr",
          "text": [
            "Epoch 3/10:  17%|█▋        | 700/4149 [09:35<47:12,  1.22it/s]"
          ]
        },
        {
          "output_type": "stream",
          "name": "stdout",
          "text": [
            "\n",
            "Epoch: 3, Batch: 700, current train loss: 0.2083\n"
          ]
        },
        {
          "output_type": "stream",
          "name": "stderr",
          "text": [
            "Epoch 3/10:  19%|█▉        | 800/4149 [10:57<45:51,  1.22it/s]"
          ]
        },
        {
          "output_type": "stream",
          "name": "stdout",
          "text": [
            "\n",
            "Epoch: 3, Batch: 800, current train loss: 0.2126\n"
          ]
        },
        {
          "output_type": "stream",
          "name": "stderr",
          "text": [
            "Epoch 3/10:  22%|██▏       | 900/4149 [12:19<44:28,  1.22it/s]"
          ]
        },
        {
          "output_type": "stream",
          "name": "stdout",
          "text": [
            "\n",
            "Epoch: 3, Batch: 900, current train loss: 0.2092\n"
          ]
        },
        {
          "output_type": "stream",
          "name": "stderr",
          "text": [
            "Epoch 3/10:  24%|██▍       | 1000/4149 [13:41<43:08,  1.22it/s]"
          ]
        },
        {
          "output_type": "stream",
          "name": "stdout",
          "text": [
            "\n",
            "Epoch: 3, Batch: 1000, current train loss: 0.2129\n"
          ]
        },
        {
          "output_type": "stream",
          "name": "stderr",
          "text": [
            "Epoch 3/10:  27%|██▋       | 1100/4149 [15:04<41:46,  1.22it/s]"
          ]
        },
        {
          "output_type": "stream",
          "name": "stdout",
          "text": [
            "\n",
            "Epoch: 3, Batch: 1100, current train loss: 0.2143\n"
          ]
        },
        {
          "output_type": "stream",
          "name": "stderr",
          "text": [
            "Epoch 3/10:  29%|██▉       | 1200/4149 [16:26<40:21,  1.22it/s]"
          ]
        },
        {
          "output_type": "stream",
          "name": "stdout",
          "text": [
            "\n",
            "Epoch: 3, Batch: 1200, current train loss: 0.2159\n"
          ]
        },
        {
          "output_type": "stream",
          "name": "stderr",
          "text": [
            "Epoch 3/10:  31%|███▏      | 1300/4149 [17:48<39:00,  1.22it/s]"
          ]
        },
        {
          "output_type": "stream",
          "name": "stdout",
          "text": [
            "\n",
            "Epoch: 3, Batch: 1300, current train loss: 0.2227\n"
          ]
        },
        {
          "output_type": "stream",
          "name": "stderr",
          "text": [
            "Epoch 3/10:  34%|███▎      | 1400/4149 [19:10<37:39,  1.22it/s]"
          ]
        },
        {
          "output_type": "stream",
          "name": "stdout",
          "text": [
            "\n",
            "Epoch: 3, Batch: 1400, current train loss: 0.2241\n"
          ]
        },
        {
          "output_type": "stream",
          "name": "stderr",
          "text": [
            "Epoch 3/10:  36%|███▌      | 1500/4149 [20:32<36:17,  1.22it/s]"
          ]
        },
        {
          "output_type": "stream",
          "name": "stdout",
          "text": [
            "\n",
            "Epoch: 3, Batch: 1500, current train loss: 0.2248\n"
          ]
        },
        {
          "output_type": "stream",
          "name": "stderr",
          "text": [
            "Epoch 3/10:  39%|███▊      | 1600/4149 [21:54<34:54,  1.22it/s]"
          ]
        },
        {
          "output_type": "stream",
          "name": "stdout",
          "text": [
            "\n",
            "Epoch: 3, Batch: 1600, current train loss: 0.2257\n"
          ]
        },
        {
          "output_type": "stream",
          "name": "stderr",
          "text": [
            "Epoch 3/10:  41%|████      | 1700/4149 [23:17<33:32,  1.22it/s]"
          ]
        },
        {
          "output_type": "stream",
          "name": "stdout",
          "text": [
            "\n",
            "Epoch: 3, Batch: 1700, current train loss: 0.2239\n"
          ]
        },
        {
          "output_type": "stream",
          "name": "stderr",
          "text": [
            "Epoch 3/10:  43%|████▎     | 1800/4149 [24:39<32:08,  1.22it/s]"
          ]
        },
        {
          "output_type": "stream",
          "name": "stdout",
          "text": [
            "\n",
            "Epoch: 3, Batch: 1800, current train loss: 0.2259\n"
          ]
        },
        {
          "output_type": "stream",
          "name": "stderr",
          "text": [
            "Epoch 3/10:  46%|████▌     | 1900/4149 [26:01<30:47,  1.22it/s]"
          ]
        },
        {
          "output_type": "stream",
          "name": "stdout",
          "text": [
            "\n",
            "Epoch: 3, Batch: 1900, current train loss: 0.2318\n"
          ]
        },
        {
          "output_type": "stream",
          "name": "stderr",
          "text": [
            "Epoch 3/10:  48%|████▊     | 2000/4149 [27:24<29:26,  1.22it/s]"
          ]
        },
        {
          "output_type": "stream",
          "name": "stdout",
          "text": [
            "\n",
            "Epoch: 3, Batch: 2000, current train loss: 0.2385\n"
          ]
        },
        {
          "output_type": "stream",
          "name": "stderr",
          "text": [
            "Epoch 3/10:  51%|█████     | 2100/4149 [28:46<28:04,  1.22it/s]"
          ]
        },
        {
          "output_type": "stream",
          "name": "stdout",
          "text": [
            "\n",
            "Epoch: 3, Batch: 2100, current train loss: 0.2367\n"
          ]
        },
        {
          "output_type": "stream",
          "name": "stderr",
          "text": [
            "Epoch 3/10:  53%|█████▎    | 2200/4149 [30:08<26:41,  1.22it/s]"
          ]
        },
        {
          "output_type": "stream",
          "name": "stdout",
          "text": [
            "\n",
            "Epoch: 3, Batch: 2200, current train loss: 0.2366\n"
          ]
        },
        {
          "output_type": "stream",
          "name": "stderr",
          "text": [
            "Epoch 3/10:  55%|█████▌    | 2300/4149 [31:30<25:20,  1.22it/s]"
          ]
        },
        {
          "output_type": "stream",
          "name": "stdout",
          "text": [
            "\n",
            "Epoch: 3, Batch: 2300, current train loss: 0.2340\n"
          ]
        },
        {
          "output_type": "stream",
          "name": "stderr",
          "text": [
            "Epoch 3/10:  58%|█████▊    | 2400/4149 [32:52<23:58,  1.22it/s]"
          ]
        },
        {
          "output_type": "stream",
          "name": "stdout",
          "text": [
            "\n",
            "Epoch: 3, Batch: 2400, current train loss: 0.2347\n"
          ]
        },
        {
          "output_type": "stream",
          "name": "stderr",
          "text": [
            "Epoch 3/10:  60%|██████    | 2500/4149 [34:15<22:36,  1.22it/s]"
          ]
        },
        {
          "output_type": "stream",
          "name": "stdout",
          "text": [
            "\n",
            "Epoch: 3, Batch: 2500, current train loss: 0.2346\n"
          ]
        },
        {
          "output_type": "stream",
          "name": "stderr",
          "text": [
            "Epoch 3/10:  63%|██████▎   | 2600/4149 [35:37<21:13,  1.22it/s]"
          ]
        },
        {
          "output_type": "stream",
          "name": "stdout",
          "text": [
            "\n",
            "Epoch: 3, Batch: 2600, current train loss: 0.2320\n"
          ]
        },
        {
          "output_type": "stream",
          "name": "stderr",
          "text": [
            "Epoch 3/10:  65%|██████▌   | 2700/4149 [36:59<19:50,  1.22it/s]"
          ]
        },
        {
          "output_type": "stream",
          "name": "stdout",
          "text": [
            "\n",
            "Epoch: 3, Batch: 2700, current train loss: 0.2317\n"
          ]
        },
        {
          "output_type": "stream",
          "name": "stderr",
          "text": [
            "Epoch 3/10:  67%|██████▋   | 2800/4149 [38:21<18:28,  1.22it/s]"
          ]
        },
        {
          "output_type": "stream",
          "name": "stdout",
          "text": [
            "\n",
            "Epoch: 3, Batch: 2800, current train loss: 0.2319\n"
          ]
        },
        {
          "output_type": "stream",
          "name": "stderr",
          "text": [
            "Epoch 3/10:  70%|██████▉   | 2900/4149 [39:43<17:06,  1.22it/s]"
          ]
        },
        {
          "output_type": "stream",
          "name": "stdout",
          "text": [
            "\n",
            "Epoch: 3, Batch: 2900, current train loss: 0.2335\n"
          ]
        },
        {
          "output_type": "stream",
          "name": "stderr",
          "text": [
            "Epoch 3/10:  72%|███████▏  | 3000/4149 [41:06<15:44,  1.22it/s]"
          ]
        },
        {
          "output_type": "stream",
          "name": "stdout",
          "text": [
            "\n",
            "Epoch: 3, Batch: 3000, current train loss: 0.2319\n"
          ]
        },
        {
          "output_type": "stream",
          "name": "stderr",
          "text": [
            "Epoch 3/10:  75%|███████▍  | 3100/4149 [42:28<14:22,  1.22it/s]"
          ]
        },
        {
          "output_type": "stream",
          "name": "stdout",
          "text": [
            "\n",
            "Epoch: 3, Batch: 3100, current train loss: 0.2324\n"
          ]
        },
        {
          "output_type": "stream",
          "name": "stderr",
          "text": [
            "Epoch 3/10:  77%|███████▋  | 3200/4149 [43:50<13:00,  1.22it/s]"
          ]
        },
        {
          "output_type": "stream",
          "name": "stdout",
          "text": [
            "\n",
            "Epoch: 3, Batch: 3200, current train loss: 0.2335\n"
          ]
        },
        {
          "output_type": "stream",
          "name": "stderr",
          "text": [
            "Epoch 3/10:  80%|███████▉  | 3300/4149 [45:12<11:38,  1.22it/s]"
          ]
        },
        {
          "output_type": "stream",
          "name": "stdout",
          "text": [
            "\n",
            "Epoch: 3, Batch: 3300, current train loss: 0.2349\n"
          ]
        },
        {
          "output_type": "stream",
          "name": "stderr",
          "text": [
            "Epoch 3/10:  82%|████████▏ | 3400/4149 [46:35<10:15,  1.22it/s]"
          ]
        },
        {
          "output_type": "stream",
          "name": "stdout",
          "text": [
            "\n",
            "Epoch: 3, Batch: 3400, current train loss: 0.2348\n"
          ]
        },
        {
          "output_type": "stream",
          "name": "stderr",
          "text": [
            "Epoch 3/10:  84%|████████▍ | 3500/4149 [47:57<08:53,  1.22it/s]"
          ]
        },
        {
          "output_type": "stream",
          "name": "stdout",
          "text": [
            "\n",
            "Epoch: 3, Batch: 3500, current train loss: 0.2353\n"
          ]
        },
        {
          "output_type": "stream",
          "name": "stderr",
          "text": [
            "Epoch 3/10:  87%|████████▋ | 3600/4149 [49:19<07:31,  1.22it/s]"
          ]
        },
        {
          "output_type": "stream",
          "name": "stdout",
          "text": [
            "\n",
            "Epoch: 3, Batch: 3600, current train loss: 0.2365\n"
          ]
        },
        {
          "output_type": "stream",
          "name": "stderr",
          "text": [
            "Epoch 3/10:  89%|████████▉ | 3700/4149 [50:41<06:09,  1.22it/s]"
          ]
        },
        {
          "output_type": "stream",
          "name": "stdout",
          "text": [
            "\n",
            "Epoch: 3, Batch: 3700, current train loss: 0.2373\n"
          ]
        },
        {
          "output_type": "stream",
          "name": "stderr",
          "text": [
            "Epoch 3/10:  92%|█████████▏| 3800/4149 [52:03<04:47,  1.22it/s]"
          ]
        },
        {
          "output_type": "stream",
          "name": "stdout",
          "text": [
            "\n",
            "Epoch: 3, Batch: 3800, current train loss: 0.2380\n"
          ]
        },
        {
          "output_type": "stream",
          "name": "stderr",
          "text": [
            "Epoch 3/10:  94%|█████████▍| 3900/4149 [53:26<03:24,  1.22it/s]"
          ]
        },
        {
          "output_type": "stream",
          "name": "stdout",
          "text": [
            "\n",
            "Epoch: 3, Batch: 3900, current train loss: 0.2368\n"
          ]
        },
        {
          "output_type": "stream",
          "name": "stderr",
          "text": [
            "Epoch 3/10:  96%|█████████▋| 4000/4149 [54:48<02:02,  1.22it/s]"
          ]
        },
        {
          "output_type": "stream",
          "name": "stdout",
          "text": [
            "\n",
            "Epoch: 3, Batch: 4000, current train loss: 0.2381\n"
          ]
        },
        {
          "output_type": "stream",
          "name": "stderr",
          "text": [
            "Epoch 3/10:  99%|█████████▉| 4100/4149 [56:10<00:40,  1.22it/s]"
          ]
        },
        {
          "output_type": "stream",
          "name": "stdout",
          "text": [
            "\n",
            "Epoch: 3, Batch: 4100, current train loss: 0.2376\n"
          ]
        },
        {
          "output_type": "stream",
          "name": "stderr",
          "text": [
            "Epoch 3/10: 100%|██████████| 4149/4149 [56:50<00:00,  1.22it/s]\n"
          ]
        },
        {
          "output_type": "stream",
          "name": "stdout",
          "text": [
            "\n",
            "Epoch: 3, processed 4149 batches, final average train loss: 0.2382\n"
          ]
        },
        {
          "output_type": "stream",
          "name": "stderr",
          "text": [
            "Epoch 3/10 (Validation): 100%|██████████| 519/519 [03:28<00:00,  2.49it/s]\n"
          ]
        },
        {
          "output_type": "stream",
          "name": "stdout",
          "text": [
            "\n",
            "Epoch: 3, average validation loss: 0.5501, validation accuracy: 87.80%\n",
            "Validation loss did not improve. Epochs with no improvement: 2/3\n"
          ]
        },
        {
          "output_type": "stream",
          "name": "stderr",
          "text": [
            "Epoch 4/10:   2%|▏         | 100/4149 [01:22<55:28,  1.22it/s]"
          ]
        },
        {
          "output_type": "stream",
          "name": "stdout",
          "text": [
            "\n",
            "Epoch: 4, Batch: 100, current train loss: 0.0846\n"
          ]
        },
        {
          "output_type": "stream",
          "name": "stderr",
          "text": [
            "Epoch 4/10:   5%|▍         | 200/4149 [02:44<54:07,  1.22it/s]"
          ]
        },
        {
          "output_type": "stream",
          "name": "stdout",
          "text": [
            "\n",
            "Epoch: 4, Batch: 200, current train loss: 0.1073\n"
          ]
        },
        {
          "output_type": "stream",
          "name": "stderr",
          "text": [
            "Epoch 4/10:   7%|▋         | 300/4149 [04:06<52:42,  1.22it/s]"
          ]
        },
        {
          "output_type": "stream",
          "name": "stdout",
          "text": [
            "\n",
            "Epoch: 4, Batch: 300, current train loss: 0.1237\n"
          ]
        },
        {
          "output_type": "stream",
          "name": "stderr",
          "text": [
            "Epoch 4/10:  10%|▉         | 400/4149 [05:29<51:21,  1.22it/s]"
          ]
        },
        {
          "output_type": "stream",
          "name": "stdout",
          "text": [
            "\n",
            "Epoch: 4, Batch: 400, current train loss: 0.1217\n"
          ]
        },
        {
          "output_type": "stream",
          "name": "stderr",
          "text": [
            "Epoch 4/10:  12%|█▏        | 500/4149 [06:51<49:58,  1.22it/s]"
          ]
        },
        {
          "output_type": "stream",
          "name": "stdout",
          "text": [
            "\n",
            "Epoch: 4, Batch: 500, current train loss: 0.1248\n"
          ]
        },
        {
          "output_type": "stream",
          "name": "stderr",
          "text": [
            "Epoch 4/10:  14%|█▍        | 600/4149 [08:13<48:36,  1.22it/s]"
          ]
        },
        {
          "output_type": "stream",
          "name": "stdout",
          "text": [
            "\n",
            "Epoch: 4, Batch: 600, current train loss: 0.1250\n"
          ]
        },
        {
          "output_type": "stream",
          "name": "stderr",
          "text": [
            "Epoch 4/10:  17%|█▋        | 700/4149 [09:35<47:17,  1.22it/s]"
          ]
        },
        {
          "output_type": "stream",
          "name": "stdout",
          "text": [
            "\n",
            "Epoch: 4, Batch: 700, current train loss: 0.1223\n"
          ]
        },
        {
          "output_type": "stream",
          "name": "stderr",
          "text": [
            "Epoch 4/10:  19%|█▉        | 800/4149 [10:57<45:52,  1.22it/s]"
          ]
        },
        {
          "output_type": "stream",
          "name": "stdout",
          "text": [
            "\n",
            "Epoch: 4, Batch: 800, current train loss: 0.1246\n"
          ]
        },
        {
          "output_type": "stream",
          "name": "stderr",
          "text": [
            "Epoch 4/10:  22%|██▏       | 900/4149 [12:20<44:30,  1.22it/s]"
          ]
        },
        {
          "output_type": "stream",
          "name": "stdout",
          "text": [
            "\n",
            "Epoch: 4, Batch: 900, current train loss: 0.1300\n"
          ]
        },
        {
          "output_type": "stream",
          "name": "stderr",
          "text": [
            "Epoch 4/10:  24%|██▍       | 1000/4149 [13:42<43:07,  1.22it/s]"
          ]
        },
        {
          "output_type": "stream",
          "name": "stdout",
          "text": [
            "\n",
            "Epoch: 4, Batch: 1000, current train loss: 0.1353\n"
          ]
        },
        {
          "output_type": "stream",
          "name": "stderr",
          "text": [
            "Epoch 4/10:  27%|██▋       | 1100/4149 [15:04<41:46,  1.22it/s]"
          ]
        },
        {
          "output_type": "stream",
          "name": "stdout",
          "text": [
            "\n",
            "Epoch: 4, Batch: 1100, current train loss: 0.1362\n"
          ]
        },
        {
          "output_type": "stream",
          "name": "stderr",
          "text": [
            "Epoch 4/10:  29%|██▉       | 1200/4149 [16:26<40:22,  1.22it/s]"
          ]
        },
        {
          "output_type": "stream",
          "name": "stdout",
          "text": [
            "\n",
            "Epoch: 4, Batch: 1200, current train loss: 0.1363\n"
          ]
        },
        {
          "output_type": "stream",
          "name": "stderr",
          "text": [
            "Epoch 4/10:  31%|███▏      | 1300/4149 [17:48<39:02,  1.22it/s]"
          ]
        },
        {
          "output_type": "stream",
          "name": "stdout",
          "text": [
            "\n",
            "Epoch: 4, Batch: 1300, current train loss: 0.1356\n"
          ]
        },
        {
          "output_type": "stream",
          "name": "stderr",
          "text": [
            "Epoch 4/10:  34%|███▎      | 1400/4149 [19:11<37:40,  1.22it/s]"
          ]
        },
        {
          "output_type": "stream",
          "name": "stdout",
          "text": [
            "\n",
            "Epoch: 4, Batch: 1400, current train loss: 0.1373\n"
          ]
        },
        {
          "output_type": "stream",
          "name": "stderr",
          "text": [
            "Epoch 4/10:  36%|███▌      | 1500/4149 [20:33<36:18,  1.22it/s]"
          ]
        },
        {
          "output_type": "stream",
          "name": "stdout",
          "text": [
            "\n",
            "Epoch: 4, Batch: 1500, current train loss: 0.1408\n"
          ]
        },
        {
          "output_type": "stream",
          "name": "stderr",
          "text": [
            "Epoch 4/10:  39%|███▊      | 1600/4149 [21:55<34:54,  1.22it/s]"
          ]
        },
        {
          "output_type": "stream",
          "name": "stdout",
          "text": [
            "\n",
            "Epoch: 4, Batch: 1600, current train loss: 0.1390\n"
          ]
        },
        {
          "output_type": "stream",
          "name": "stderr",
          "text": [
            "Epoch 4/10:  41%|████      | 1700/4149 [23:18<33:33,  1.22it/s]"
          ]
        },
        {
          "output_type": "stream",
          "name": "stdout",
          "text": [
            "\n",
            "Epoch: 4, Batch: 1700, current train loss: 0.1367\n"
          ]
        },
        {
          "output_type": "stream",
          "name": "stderr",
          "text": [
            "Epoch 4/10:  43%|████▎     | 1800/4149 [24:40<32:11,  1.22it/s]"
          ]
        },
        {
          "output_type": "stream",
          "name": "stdout",
          "text": [
            "\n",
            "Epoch: 4, Batch: 1800, current train loss: 0.1362\n"
          ]
        },
        {
          "output_type": "stream",
          "name": "stderr",
          "text": [
            "Epoch 4/10:  46%|████▌     | 1900/4149 [26:02<30:48,  1.22it/s]"
          ]
        },
        {
          "output_type": "stream",
          "name": "stdout",
          "text": [
            "\n",
            "Epoch: 4, Batch: 1900, current train loss: 0.1357\n"
          ]
        },
        {
          "output_type": "stream",
          "name": "stderr",
          "text": [
            "Epoch 4/10:  48%|████▊     | 2000/4149 [27:24<29:25,  1.22it/s]"
          ]
        },
        {
          "output_type": "stream",
          "name": "stdout",
          "text": [
            "\n",
            "Epoch: 4, Batch: 2000, current train loss: 0.1366\n"
          ]
        },
        {
          "output_type": "stream",
          "name": "stderr",
          "text": [
            "Epoch 4/10:  51%|█████     | 2100/4149 [28:46<28:04,  1.22it/s]"
          ]
        },
        {
          "output_type": "stream",
          "name": "stdout",
          "text": [
            "\n",
            "Epoch: 4, Batch: 2100, current train loss: 0.1367\n"
          ]
        },
        {
          "output_type": "stream",
          "name": "stderr",
          "text": [
            "Epoch 4/10:  53%|█████▎    | 2200/4149 [30:09<26:41,  1.22it/s]"
          ]
        },
        {
          "output_type": "stream",
          "name": "stdout",
          "text": [
            "\n",
            "Epoch: 4, Batch: 2200, current train loss: 0.1381\n"
          ]
        },
        {
          "output_type": "stream",
          "name": "stderr",
          "text": [
            "Epoch 4/10:  55%|█████▌    | 2300/4149 [31:31<25:18,  1.22it/s]"
          ]
        },
        {
          "output_type": "stream",
          "name": "stdout",
          "text": [
            "\n",
            "Epoch: 4, Batch: 2300, current train loss: 0.1397\n"
          ]
        },
        {
          "output_type": "stream",
          "name": "stderr",
          "text": [
            "Epoch 4/10:  58%|█████▊    | 2400/4149 [32:53<23:57,  1.22it/s]"
          ]
        },
        {
          "output_type": "stream",
          "name": "stdout",
          "text": [
            "\n",
            "Epoch: 4, Batch: 2400, current train loss: 0.1406\n"
          ]
        },
        {
          "output_type": "stream",
          "name": "stderr",
          "text": [
            "Epoch 4/10:  60%|██████    | 2500/4149 [34:15<22:34,  1.22it/s]"
          ]
        },
        {
          "output_type": "stream",
          "name": "stdout",
          "text": [
            "\n",
            "Epoch: 4, Batch: 2500, current train loss: 0.1393\n"
          ]
        },
        {
          "output_type": "stream",
          "name": "stderr",
          "text": [
            "Epoch 4/10:  63%|██████▎   | 2600/4149 [35:37<21:12,  1.22it/s]"
          ]
        },
        {
          "output_type": "stream",
          "name": "stdout",
          "text": [
            "\n",
            "Epoch: 4, Batch: 2600, current train loss: 0.1393\n"
          ]
        },
        {
          "output_type": "stream",
          "name": "stderr",
          "text": [
            "Epoch 4/10:  65%|██████▌   | 2700/4149 [37:00<19:51,  1.22it/s]"
          ]
        },
        {
          "output_type": "stream",
          "name": "stdout",
          "text": [
            "\n",
            "Epoch: 4, Batch: 2700, current train loss: 0.1419\n"
          ]
        },
        {
          "output_type": "stream",
          "name": "stderr",
          "text": [
            "Epoch 4/10:  67%|██████▋   | 2800/4149 [38:22<18:28,  1.22it/s]"
          ]
        },
        {
          "output_type": "stream",
          "name": "stdout",
          "text": [
            "\n",
            "Epoch: 4, Batch: 2800, current train loss: 0.1435\n"
          ]
        },
        {
          "output_type": "stream",
          "name": "stderr",
          "text": [
            "Epoch 4/10:  70%|██████▉   | 2900/4149 [39:44<17:06,  1.22it/s]"
          ]
        },
        {
          "output_type": "stream",
          "name": "stdout",
          "text": [
            "\n",
            "Epoch: 4, Batch: 2900, current train loss: 0.1445\n"
          ]
        },
        {
          "output_type": "stream",
          "name": "stderr",
          "text": [
            "Epoch 4/10:  72%|███████▏  | 3000/4149 [41:06<15:44,  1.22it/s]"
          ]
        },
        {
          "output_type": "stream",
          "name": "stdout",
          "text": [
            "\n",
            "Epoch: 4, Batch: 3000, current train loss: 0.1456\n"
          ]
        },
        {
          "output_type": "stream",
          "name": "stderr",
          "text": [
            "Epoch 4/10:  75%|███████▍  | 3100/4149 [42:29<14:22,  1.22it/s]"
          ]
        },
        {
          "output_type": "stream",
          "name": "stdout",
          "text": [
            "\n",
            "Epoch: 4, Batch: 3100, current train loss: 0.1458\n"
          ]
        },
        {
          "output_type": "stream",
          "name": "stderr",
          "text": [
            "Epoch 4/10:  77%|███████▋  | 3200/4149 [43:51<13:00,  1.22it/s]"
          ]
        },
        {
          "output_type": "stream",
          "name": "stdout",
          "text": [
            "\n",
            "Epoch: 4, Batch: 3200, current train loss: 0.1452\n"
          ]
        },
        {
          "output_type": "stream",
          "name": "stderr",
          "text": [
            "Epoch 4/10:  80%|███████▉  | 3300/4149 [45:13<11:38,  1.22it/s]"
          ]
        },
        {
          "output_type": "stream",
          "name": "stdout",
          "text": [
            "\n",
            "Epoch: 4, Batch: 3300, current train loss: 0.1448\n"
          ]
        },
        {
          "output_type": "stream",
          "name": "stderr",
          "text": [
            "Epoch 4/10:  82%|████████▏ | 3400/4149 [46:35<10:16,  1.22it/s]"
          ]
        },
        {
          "output_type": "stream",
          "name": "stdout",
          "text": [
            "\n",
            "Epoch: 4, Batch: 3400, current train loss: 0.1443\n"
          ]
        },
        {
          "output_type": "stream",
          "name": "stderr",
          "text": [
            "Epoch 4/10:  84%|████████▍ | 3500/4149 [47:57<08:53,  1.22it/s]"
          ]
        },
        {
          "output_type": "stream",
          "name": "stdout",
          "text": [
            "\n",
            "Epoch: 4, Batch: 3500, current train loss: 0.1444\n"
          ]
        },
        {
          "output_type": "stream",
          "name": "stderr",
          "text": [
            "Epoch 4/10:  87%|████████▋ | 3600/4149 [49:20<07:31,  1.22it/s]"
          ]
        },
        {
          "output_type": "stream",
          "name": "stdout",
          "text": [
            "\n",
            "Epoch: 4, Batch: 3600, current train loss: 0.1448\n"
          ]
        },
        {
          "output_type": "stream",
          "name": "stderr",
          "text": [
            "Epoch 4/10:  89%|████████▉ | 3700/4149 [50:42<06:09,  1.22it/s]"
          ]
        },
        {
          "output_type": "stream",
          "name": "stdout",
          "text": [
            "\n",
            "Epoch: 4, Batch: 3700, current train loss: 0.1461\n"
          ]
        },
        {
          "output_type": "stream",
          "name": "stderr",
          "text": [
            "Epoch 4/10:  92%|█████████▏| 3800/4149 [52:04<04:46,  1.22it/s]"
          ]
        },
        {
          "output_type": "stream",
          "name": "stdout",
          "text": [
            "\n",
            "Epoch: 4, Batch: 3800, current train loss: 0.1455\n"
          ]
        },
        {
          "output_type": "stream",
          "name": "stderr",
          "text": [
            "Epoch 4/10:  94%|█████████▍| 3900/4149 [53:27<03:24,  1.22it/s]"
          ]
        },
        {
          "output_type": "stream",
          "name": "stdout",
          "text": [
            "\n",
            "Epoch: 4, Batch: 3900, current train loss: 0.1453\n"
          ]
        },
        {
          "output_type": "stream",
          "name": "stderr",
          "text": [
            "Epoch 4/10:  96%|█████████▋| 4000/4149 [54:49<02:02,  1.22it/s]"
          ]
        },
        {
          "output_type": "stream",
          "name": "stdout",
          "text": [
            "\n",
            "Epoch: 4, Batch: 4000, current train loss: 0.1451\n"
          ]
        },
        {
          "output_type": "stream",
          "name": "stderr",
          "text": [
            "Epoch 4/10:  99%|█████████▉| 4100/4149 [56:11<00:40,  1.22it/s]"
          ]
        },
        {
          "output_type": "stream",
          "name": "stdout",
          "text": [
            "\n",
            "Epoch: 4, Batch: 4100, current train loss: 0.1471\n"
          ]
        },
        {
          "output_type": "stream",
          "name": "stderr",
          "text": [
            "Epoch 4/10: 100%|██████████| 4149/4149 [56:51<00:00,  1.22it/s]\n"
          ]
        },
        {
          "output_type": "stream",
          "name": "stdout",
          "text": [
            "\n",
            "Epoch: 4, processed 4149 batches, final average train loss: 0.1473\n"
          ]
        },
        {
          "output_type": "stream",
          "name": "stderr",
          "text": [
            "Epoch 4/10 (Validation): 100%|██████████| 519/519 [03:28<00:00,  2.49it/s]\n"
          ]
        },
        {
          "output_type": "stream",
          "name": "stdout",
          "text": [
            "\n",
            "Epoch: 4, average validation loss: 0.5839, validation accuracy: 88.29%\n",
            "Validation loss did not improve. Epochs with no improvement: 3/3\n",
            "Early stopping triggered after 4 epochs. Validation loss did not improve for 3 consecutive epochs.\n",
            "Training finished.\n",
            "Loaded model state with the best validation loss.\n",
            "Training completed.\n"
          ]
        }
      ]
    },
    {
      "cell_type": "code",
      "source": [
        "import matplotlib.pyplot as plt\n",
        "\n",
        "# Assuming the train function was called and returned 'history'\n",
        "# Example: best_model, history = train(...)\n",
        "\n",
        "if 'history' in locals() and history is not None:\n",
        "    # Create a figure with two subplots (1 row, 2 columns)\n",
        "    fig, axes = plt.subplots(1, 2, figsize=(15, 6))\n",
        "\n",
        "    # Plot Loss on the left subplot\n",
        "    axes[0].plot(history['train_loss'], label='Training Loss')\n",
        "    axes[0].plot(history['val_loss'], label='Validation Loss')\n",
        "    axes[0].set_title('Training and Validation Loss per Epoch')\n",
        "    axes[0].set_xlabel('Epoch')\n",
        "    axes[0].set_ylabel('Loss')\n",
        "    axes[0].legend()\n",
        "    axes[0].grid(True)\n",
        "\n",
        "    # Plot Accuracy on the right subplot\n",
        "    axes[1].plot(history['val_accuracy'], label='Validation Accuracy', color='green')\n",
        "    axes[1].set_title('Validation Accuracy per Epoch')\n",
        "    axes[1].set_xlabel('Epoch')\n",
        "    axes[1].set_ylabel('Accuracy (%)')\n",
        "    axes[1].legend()\n",
        "    axes[1].grid(True)\n",
        "\n",
        "    # Adjust layout to prevent titles/labels from overlapping\n",
        "    plt.tight_layout()\n",
        "    plt.show()\n",
        "else:\n",
        "    print(\"Training history not available. Please run the training cell first.\")"
      ],
      "metadata": {
        "colab": {
          "base_uri": "https://localhost:8080/",
          "height": 293
        },
        "id": "p9_PGpqkBiQN",
        "outputId": "0e222ffb-722c-48ef-dcc6-c91c7ba9162f"
      },
      "execution_count": null,
      "outputs": [
        {
          "output_type": "display_data",
          "data": {
            "text/plain": [
              "<Figure size 1500x600 with 2 Axes>"
            ],
            "image/png": "[encoded data removed]"
          },
          "metadata": {}
        }
      ]
    },
    {
      "cell_type": "markdown",
      "source": [
        "# Model evaluation"
      ],
      "metadata": {
        "id": "2JlBR2LHnCpP"
      }
    },
    {
      "cell_type": "markdown",
      "source": [
        "## Qwen3-0.6B"
      ],
      "metadata": {
        "id": "nyt09gytZm5Q"
      }
    },
    {
      "cell_type": "code",
      "source": [
        "def get_sample_logprob(sample, model):\n",
        "    model.eval()\n",
        "    model.to(device)\n",
        "\n",
        "    # Extract input_ids and attention_mask from the sample\n",
        "    input_ids = sample[\"input_ids\"].unsqueeze(0).to(device) # Add batch dimension: (1, sequence_length)\n",
        "    attention_mask = sample[\"attention_mask\"].unsqueeze(0).to(device)\n",
        "\n",
        "    # Disable gradient calculation because the model is not used for training\n",
        "    with torch.no_grad():\n",
        "        outputs = model(input_ids=input_ids, attention_mask=attention_mask)\n",
        "\n",
        "    # logits shape: (batch_size, seq_len, vocab_size)\n",
        "    logits = outputs.logits\n",
        "\n",
        "    # Calculate log probabilities for each token (except first start token)\n",
        "    total_log_prob = 0.0\n",
        "    for i in range(1, input_ids.shape[1]):\n",
        "        # Get logits for the previous position predicting the current token\n",
        "        if attention_mask[0, i] == 1:\n",
        "            current_logits = logits[0, i-1, :]\n",
        "            current_token_id = input_ids[0, i]\n",
        "            log_prob = torch.log_softmax(current_logits, dim=-1)[current_token_id].item()\n",
        "            total_log_prob += log_prob\n",
        "\n",
        "    return total_log_prob"
      ],
      "metadata": {
        "id": "nd4PfIIwnRMR"
      },
      "execution_count": null,
      "outputs": []
    },
    {
      "cell_type": "code",
      "source": [
        "import tqdm\n",
        "\n",
        "correct_pairs = 0\n",
        "total_pairs = 0\n",
        "\n",
        "# Iterate directly over the test_dataset which now yields paired data\n",
        "for pair_data in tqdm.tqdm(test_dataset, desc=\"Evaluating model\"):\n",
        "    total_pairs += 1\n",
        "\n",
        "    # Extract correct and ungrammatical sentence data from the paired item\n",
        "    correct_sample = {\n",
        "        \"input_ids\": pair_data[\"correct_input_ids\"],\n",
        "        \"attention_mask\": pair_data[\"correct_attention_mask\"],\n",
        "    }\n",
        "    ungrammatical_sample = {\n",
        "        \"input_ids\": pair_data[\"ungrammatical_input_ids\"],\n",
        "        \"attention_mask\": pair_data[\"ungrammatical_attention_mask\"],\n",
        "    }\n",
        "\n",
        "    # Calculate log probabilities for the pair\n",
        "    # Ensure the model is on the correct device before calling get_sample_logprob\n",
        "    prob_correct = get_sample_logprob(correct_sample, model)\n",
        "    prob_ungrammatical = get_sample_logprob(ungrammatical_sample, model)\n",
        "\n",
        "    # Calculate overall correct count\n",
        "    if prob_correct > prob_ungrammatical:\n",
        "        correct_pairs += 1\n",
        "\n",
        "# Calculate overall accuracy\n",
        "overall_accuracy = (correct_pairs / total_pairs) * 100 if total_pairs > 0 else 0\n",
        "\n",
        "print(f\"\\nFinal Test Set Accuracy (Fine-tuned Model): {overall_accuracy:.2f}% ({correct_pairs}/{total_pairs})\")"
      ],
      "metadata": {
        "id": "bDI_NJSbsr7f",
        "colab": {
          "base_uri": "https://localhost:8080/"
        },
        "outputId": "606f09b3-167f-4b0d-81b1-b3f0fa045c66"
      },
      "execution_count": null,
      "outputs": [
        {
          "output_type": "stream",
          "name": "stderr",
          "text": [
            "Evaluating model: 100%|██████████| 4149/4149 [10:38<00:00,  6.50it/s]"
          ]
        },
        {
          "output_type": "stream",
          "name": "stdout",
          "text": [
            "\n",
            "Final Test Set Accuracy (Fine-tuned Model): 87.18% (3617/4149)\n"
          ]
        },
        {
          "output_type": "stream",
          "name": "stderr",
          "text": [
            "\n"
          ]
        }
      ]
    },
    {
      "cell_type": "code",
      "source": [
        "import tqdm\n",
        "import torch\n",
        "import torch.nn.functional as F\n",
        "\n",
        "# Evaluate accuracy and calculate softmax probability over the two sentence log probabilities for each length bin\n",
        "print(\"\\nEvaluating accuracy and calculating softmax probability over two sentence log probabilities for each length bin:\")\n",
        "\n",
        "new_length_group_accuracy = {}\n",
        "new_length_group_metric = {} # This will store the average of the softmax probability over the two sentence log probabilities\n",
        "\n",
        "# Sort by label for ordered output (reuse sort_key)\n",
        "def sort_key(label):\n",
        "    if '-' in label:\n",
        "        try:\n",
        "            return int(label.split('-')[0])\n",
        "        except ValueError:\n",
        "            pass\n",
        "    elif '+' in label:\n",
        "         try:\n",
        "             return int(label.split('+')[0])\n",
        "         except ValueError:\n",
        "              pass\n",
        "    return label\n",
        "\n",
        "# Ensure the model is in evaluation mode and on the correct device\n",
        "# Access the model object from the best_model tuple (it's the first element)\n",
        "eval_model = best_model\n",
        "eval_model.eval()\n",
        "eval_model.to(device)\n",
        "\n",
        "# Use the already calculated new_grouped_pairs (which contains the test pairs grouped by length)\n",
        "for label, pairs in sorted(new_grouped_pairs.items(), key=lambda item: sort_key(item[0])):\n",
        "    correct_predictions_bin = 0\n",
        "    total_pairs_bin = len(pairs)\n",
        "    group_metric_sum = 0.0 # Sum of softmax probabilities over two sentence log probabilities for this bin\n",
        "\n",
        "\n",
        "    if total_pairs_bin == 0:\n",
        "        print(f\"Length bin '{label}': 0 pairs, Accuracy: N/A, Average Softmax Probability over Sentence Log Probabilities: N/A\")\n",
        "        continue\n",
        "\n",
        "    # Create a dataset and dataloader for the current bin's pairs\n",
        "    # GrammarCheckDataset is designed to take a list of pairs\n",
        "    bin_dataset = GrammarCheckDataset(pairs, tokenizer)\n",
        "    # Reduce batch size for evaluation to mitigate OutOfMemoryError\n",
        "    evaluation_batch_size = 4\n",
        "    bin_dataloader = DataLoader(bin_dataset, batch_size=evaluation_batch_size) # Use a smaller batch size for evaluation\n",
        "\n",
        "    for batch in tqdm.tqdm(bin_dataloader, desc=f\"Processing bin '{label}'\"):\n",
        "        correct_input_ids = batch[\"correct_input_ids\"].to(device)\n",
        "        correct_attention_mask = batch[\"correct_attention_mask\"].to(device)\n",
        "        ungrammatical_input_ids = batch[\"ungrammatical_input_ids\"].to(device)\n",
        "        ungrammatical_attention_mask = batch[\"ungrammatical_attention_mask\"].to(device)\n",
        "\n",
        "\n",
        "        # Forward pass for correct and ungrammatical sentences using eval_model\n",
        "        with torch.no_grad():\n",
        "            outputs_correct = eval_model(input_ids=correct_input_ids, attention_mask=correct_attention_mask)\n",
        "            correct_logits = outputs_correct.logits\n",
        "\n",
        "            outputs_ungrammatical = eval_model(input_ids=ungrammatical_input_ids, attention_mask=ungrammatical_attention_mask)\n",
        "            ungrammatical_logits = outputs_ungrammatical.logits\n",
        "\n",
        "\n",
        "        # Calculate sentence log probabilities\n",
        "        # For correct sentences\n",
        "        shifted_correct_logits = correct_logits[:, :-1, :].contiguous()\n",
        "        correct_target_ids = correct_input_ids[:, 1:]\n",
        "        correct_target_mask = correct_attention_mask[:, 1:]\n",
        "        log_probs_correct_all = torch.log_softmax(shifted_correct_logits, dim=-1)\n",
        "        one_hot_correct_target_ids = F.one_hot(correct_target_ids, num_classes=log_probs_correct_all.size(-1)).float()\n",
        "        selected_log_probs_correct = torch.einsum('bsv,bsv->bs', log_probs_correct_all, one_hot_correct_target_ids)\n",
        "        masked_log_probs_correct = selected_log_probs_correct * correct_target_mask.float()\n",
        "        sentence_log_probs_correct = masked_log_probs_correct.sum(dim=-1) # (batch_size,)\n",
        "\n",
        "        # For ungrammatical sentences\n",
        "        shifted_ungrammatical_logits = ungrammatical_logits[:, :-1, :].contiguous()\n",
        "        ungrammatical_target_ids = ungrammatical_input_ids[:, 1:]\n",
        "        ungrammatical_target_mask = ungrammatical_attention_mask[:, 1:]\n",
        "        log_probs_ungrammatical_all = torch.log_softmax(shifted_ungrammatical_logits, dim=-1)\n",
        "        one_hot_ungrammatical_target_ids = F.one_hot(ungrammatical_target_ids, num_classes=log_probs_ungrammatical_all.size(-1)).float()\n",
        "        selected_log_probs_ungrammatical = torch.einsum('bsv,bsv->bs', log_probs_ungrammatical_all, one_hot_ungrammatical_target_ids)\n",
        "        masked_log_probs_ungrammatical = selected_log_probs_ungrammatical * ungrammatical_target_mask.float()\n",
        "        sentence_log_probs_ungrammatical = masked_log_probs_ungrammatical.sum(dim=-1) # (batch_size,)\n",
        "\n",
        "        # Compare log probabilities within each pair (for Accuracy)\n",
        "        for i in range(sentence_log_probs_correct.shape[0]):\n",
        "            if sentence_log_probs_correct[i] > sentence_log_probs_ungrammatical[i]:\n",
        "                correct_predictions_bin += 1\n",
        "\n",
        "        # Calculate softmax probability over the two sentence log probabilities for each pair in the batch\n",
        "        # Stack log probabilities for softmax\n",
        "        stacked_log_probs = torch.stack([sentence_log_probs_ungrammatical, sentence_log_probs_correct], dim=-1) # (batch_size, 2)\n",
        "        softmax_probs = torch.softmax(stacked_log_probs, dim=-1) # (batch_size, 2)\n",
        "\n",
        "        # The metric value is the softmax probability corresponding to the correct sentence (index 1)\n",
        "        metric_values_batch = softmax_probs[:, 1] # (batch_size,)\n",
        "\n",
        "        group_metric_sum += metric_values_batch.sum().item()\n",
        "\n",
        "\n",
        "    # Calculate accuracy and average softmax probability metric for the current bin\n",
        "    accuracy_bin = (correct_predictions_bin / total_pairs_bin) * 100 if total_pairs_bin > 0 else 0\n",
        "    average_metric_bin = group_metric_sum / total_pairs_bin if total_pairs_bin > 0 else 0\n",
        "\n",
        "    new_length_group_accuracy[label] = accuracy_bin\n",
        "    new_length_group_metric[label] = average_metric_bin\n",
        "\n",
        "    print(f\"Length bin '{label}': {total_pairs_bin} pairs, Accuracy: {accuracy_bin:.2f}%, Average Softmax Probability over Sentence Log Probabilities: {average_metric_bin:.4f}\")\n",
        "\n",
        "# Print overall results by new length group\n",
        "print(\"\\nEvaluation Results by New Length Group:\")\n",
        "for label, accuracy in sorted(new_length_group_accuracy.items(), key=lambda item: sort_key(item[0])):\n",
        "    metric = new_length_group_metric[label]\n",
        "    print(f\"'{label}': Accuracy={accuracy:.2f}%, Average Softmax Probability over Sentence Log Probabilities: {metric:.4f}\")"
      ],
      "metadata": {
        "colab": {
          "base_uri": "https://localhost:8080/"
        },
        "id": "Mh_xuuJMp_Gy",
        "outputId": "3654c0ae-4bd5-4934-ae9e-76feb5cad4da"
      },
      "execution_count": null,
      "outputs": [
        {
          "output_type": "stream",
          "name": "stdout",
          "text": [
            "\n",
            "Evaluating accuracy and calculating softmax probability over two sentence log probabilities for each length bin:\n"
          ]
        },
        {
          "output_type": "stream",
          "name": "stderr",
          "text": [
            "Processing bin '0-9': 100%|██████████| 77/77 [00:15<00:00,  4.91it/s]\n"
          ]
        },
        {
          "output_type": "stream",
          "name": "stdout",
          "text": [
            "Length bin '0-9': 308 pairs, Accuracy: 79.55%, Average Softmax Probability over Sentence Log Probabilities: 0.7681\n"
          ]
        },
        {
          "output_type": "stream",
          "name": "stderr",
          "text": [
            "Processing bin '10-19': 100%|██████████| 273/273 [00:55<00:00,  4.93it/s]\n"
          ]
        },
        {
          "output_type": "stream",
          "name": "stdout",
          "text": [
            "Length bin '10-19': 1091 pairs, Accuracy: 82.22%, Average Softmax Probability over Sentence Log Probabilities: 0.8031\n"
          ]
        },
        {
          "output_type": "stream",
          "name": "stderr",
          "text": [
            "Processing bin '20-29': 100%|██████████| 165/165 [00:33<00:00,  4.93it/s]\n"
          ]
        },
        {
          "output_type": "stream",
          "name": "stdout",
          "text": [
            "Length bin '20-29': 657 pairs, Accuracy: 85.69%, Average Softmax Probability over Sentence Log Probabilities: 0.8544\n"
          ]
        },
        {
          "output_type": "stream",
          "name": "stderr",
          "text": [
            "Processing bin '30-39': 100%|██████████| 140/140 [00:28<00:00,  4.91it/s]\n"
          ]
        },
        {
          "output_type": "stream",
          "name": "stdout",
          "text": [
            "Length bin '30-39': 560 pairs, Accuracy: 88.39%, Average Softmax Probability over Sentence Log Probabilities: 0.8714\n"
          ]
        },
        {
          "output_type": "stream",
          "name": "stderr",
          "text": [
            "Processing bin '40-49': 100%|██████████| 121/121 [00:24<00:00,  4.93it/s]\n"
          ]
        },
        {
          "output_type": "stream",
          "name": "stdout",
          "text": [
            "Length bin '40-49': 481 pairs, Accuracy: 90.85%, Average Softmax Probability over Sentence Log Probabilities: 0.9049\n"
          ]
        },
        {
          "output_type": "stream",
          "name": "stderr",
          "text": [
            "Processing bin '50-59': 100%|██████████| 86/86 [00:17<00:00,  4.93it/s]\n"
          ]
        },
        {
          "output_type": "stream",
          "name": "stdout",
          "text": [
            "Length bin '50-59': 341 pairs, Accuracy: 89.74%, Average Softmax Probability over Sentence Log Probabilities: 0.8921\n"
          ]
        },
        {
          "output_type": "stream",
          "name": "stderr",
          "text": [
            "Processing bin '60-69': 100%|██████████| 62/62 [00:12<00:00,  4.90it/s]\n"
          ]
        },
        {
          "output_type": "stream",
          "name": "stdout",
          "text": [
            "Length bin '60-69': 248 pairs, Accuracy: 90.73%, Average Softmax Probability over Sentence Log Probabilities: 0.9127\n"
          ]
        },
        {
          "output_type": "stream",
          "name": "stderr",
          "text": [
            "Processing bin '70-79': 100%|██████████| 44/44 [00:08<00:00,  4.89it/s]\n"
          ]
        },
        {
          "output_type": "stream",
          "name": "stdout",
          "text": [
            "Length bin '70-79': 176 pairs, Accuracy: 95.45%, Average Softmax Probability over Sentence Log Probabilities: 0.9486\n"
          ]
        },
        {
          "output_type": "stream",
          "name": "stderr",
          "text": [
            "Processing bin '80-89': 100%|██████████| 29/29 [00:05<00:00,  4.95it/s]\n"
          ]
        },
        {
          "output_type": "stream",
          "name": "stdout",
          "text": [
            "Length bin '80-89': 114 pairs, Accuracy: 97.37%, Average Softmax Probability over Sentence Log Probabilities: 0.9602\n"
          ]
        },
        {
          "output_type": "stream",
          "name": "stderr",
          "text": [
            "Processing bin '90-99': 100%|██████████| 15/15 [00:03<00:00,  4.96it/s]\n"
          ]
        },
        {
          "output_type": "stream",
          "name": "stdout",
          "text": [
            "Length bin '90-99': 59 pairs, Accuracy: 98.31%, Average Softmax Probability over Sentence Log Probabilities: 0.9799\n"
          ]
        },
        {
          "output_type": "stream",
          "name": "stderr",
          "text": [
            "Processing bin '100-109': 100%|██████████| 11/11 [00:02<00:00,  5.06it/s]\n"
          ]
        },
        {
          "output_type": "stream",
          "name": "stdout",
          "text": [
            "Length bin '100-109': 42 pairs, Accuracy: 95.24%, Average Softmax Probability over Sentence Log Probabilities: 0.9526\n"
          ]
        },
        {
          "output_type": "stream",
          "name": "stderr",
          "text": [
            "Processing bin '110+': 100%|██████████| 18/18 [00:03<00:00,  4.87it/s]"
          ]
        },
        {
          "output_type": "stream",
          "name": "stdout",
          "text": [
            "Length bin '110+': 72 pairs, Accuracy: 100.00%, Average Softmax Probability over Sentence Log Probabilities: 0.9989\n",
            "\n",
            "Evaluation Results by New Length Group:\n",
            "'0-9': Accuracy=79.55%, Average Softmax Probability over Sentence Log Probabilities: 0.7681\n",
            "'10-19': Accuracy=82.22%, Average Softmax Probability over Sentence Log Probabilities: 0.8031\n",
            "'20-29': Accuracy=85.69%, Average Softmax Probability over Sentence Log Probabilities: 0.8544\n",
            "'30-39': Accuracy=88.39%, Average Softmax Probability over Sentence Log Probabilities: 0.8714\n",
            "'40-49': Accuracy=90.85%, Average Softmax Probability over Sentence Log Probabilities: 0.9049\n",
            "'50-59': Accuracy=89.74%, Average Softmax Probability over Sentence Log Probabilities: 0.8921\n",
            "'60-69': Accuracy=90.73%, Average Softmax Probability over Sentence Log Probabilities: 0.9127\n",
            "'70-79': Accuracy=95.45%, Average Softmax Probability over Sentence Log Probabilities: 0.9486\n",
            "'80-89': Accuracy=97.37%, Average Softmax Probability over Sentence Log Probabilities: 0.9602\n",
            "'90-99': Accuracy=98.31%, Average Softmax Probability over Sentence Log Probabilities: 0.9799\n",
            "'100-109': Accuracy=95.24%, Average Softmax Probability over Sentence Log Probabilities: 0.9526\n",
            "'110+': Accuracy=100.00%, Average Softmax Probability over Sentence Log Probabilities: 0.9989\n"
          ]
        },
        {
          "output_type": "stream",
          "name": "stderr",
          "text": [
            "\n"
          ]
        }
      ]
    }
  ],
  "metadata": {
    "accelerator": "GPU",
    "colab": {
      "gpuType": "A100",
      "machine_shape": "hm",
      "provenance": []
    },
    "kernelspec": {
      "display_name": "Python 3",
      "name": "python3"
    },
    "language_info": {
      "name": "python"
    }
  },
  "nbformat": 4,
  "nbformat_minor": 0
}